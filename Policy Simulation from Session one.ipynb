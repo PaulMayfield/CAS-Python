{
 "cells": [
  {
   "cell_type": "code",
   "execution_count": 1,
   "metadata": {},
   "outputs": [],
   "source": [
    "from datetime import date, timedelta\n",
    "from random import seed, randrange"
   ]
  },
  {
   "attachments": {},
   "cell_type": "markdown",
   "metadata": {},
   "source": [
    "Next, we'll create a lambda function to increment the effective date by a year. This is largely to make the code more readable."
   ]
  },
  {
   "cell_type": "code",
   "execution_count": 2,
   "metadata": {},
   "outputs": [],
   "source": [
    "increment_year = lambda date_in :date(date_in.year + 1, date_in.month, date_in.day)"
   ]
  },
  {
   "cell_type": "markdown",
   "metadata": {},
   "source": [
    "Finally, we'll create a generator which gives us a randomized policy. There's not much special about the written premium. It's simply a number between 0 and one thousand.\n",
    "\n",
    "Note 1) the use of our lambda function, 2) the use of a random number seed and 3) the `yield` keyword which makes this a generator."
   ]
  },
  {
   "cell_type": "code",
   "execution_count": 3,
   "metadata": {},
   "outputs": [],
   "source": [
    "def random_policy(new_seed = 1234):\n",
    "  \"\"\"\n",
    "  This is a generator which produces a dictionary of basic policy information\n",
    "  \"\"\"\n",
    "  seed(new_seed)\n",
    "  while True:\n",
    "    policy = {\n",
    "      'written_premium': randrange(10**3),\n",
    "      'effective_date': date(2020, 1, 1) + timedelta(randrange(365))\n",
    "    }\n",
    "    policy['expiration_date'] = increment_year(policy['effective_date'])\n",
    "    yield policy"
   ]
  },
  {
   "cell_type": "markdown",
   "metadata": {},
   "source": [
    "We can now generate a list of dictionaries by calling `next()` as many times as we like. We don't need the result of our call to `range()`. We indicate that we're ignoring it by assigning it to the `_` object."
   ]
  },
  {
   "cell_type": "code",
   "execution_count": 4,
   "metadata": {},
   "outputs": [],
   "source": [
    "policy_generator = random_policy()\n",
    "\n",
    "policies = [next(policy_generator) for _ in range(10)]"
   ]
  },
  {
   "cell_type": "markdown",
   "metadata": {},
   "source": [
    "Take a look at our policies:"
   ]
  },
  {
   "cell_type": "code",
   "execution_count": 5,
   "metadata": {},
   "outputs": [
    {
     "data": {
      "text/plain": [
       "[{'written_premium': 989,\n",
       "  'effective_date': datetime.date(2020, 8, 13),\n",
       "  'expiration_date': datetime.date(2021, 8, 13)},\n",
       " {'written_premium': 119,\n",
       "  'effective_date': datetime.date(2020, 1, 4),\n",
       "  'expiration_date': datetime.date(2021, 1, 4)}]"
      ]
     },
     "execution_count": 5,
     "metadata": {},
     "output_type": "execute_result"
    }
   ],
   "source": [
    "policies[:2]"
   ]
  },
  {
   "cell_type": "markdown",
   "metadata": {},
   "source": [
    "And confirm that we have as many as we're expecting:"
   ]
  },
  {
   "cell_type": "code",
   "execution_count": 6,
   "metadata": {},
   "outputs": [
    {
     "data": {
      "text/plain": [
       "10"
      ]
     },
     "execution_count": 6,
     "metadata": {},
     "output_type": "execute_result"
    }
   ],
   "source": [
    "len(policies)"
   ]
  },
  {
   "cell_type": "markdown",
   "metadata": {},
   "source": [
    "## Earned premium\n",
    "\n",
    "Compose a function to give the earned premium based on two dates. For example, a policy written on July 1, 2020 is roughly 50% earned between July 1, 2020 and December 31, 2020."
   ]
  },
  {
   "cell_type": "code",
   "execution_count": 7,
   "metadata": {},
   "outputs": [],
   "source": [
    "def earned_premium(written_premium, policy_start, policy_end, earn_start, earn_end):\n",
    "    \"\"\"\n",
    "    Calculate earned premium. Presumes an even (linear) earning pattern\n",
    "    \"\"\"\n",
    "    policy_term = policy_end - policy_start\n",
    "    earn_start = max(earn_start, policy_start)\n",
    "    earn_end = min(earn_end, policy_end)\n",
    "    frac_earned = (earn_end - earn_start) / (policy_end - policy_start)\n",
    "    \n",
    "    return written_premium * frac_earned"
   ]
  },
  {
   "cell_type": "markdown",
   "metadata": {},
   "source": [
    "We can confirm that the function works with some sample data."
   ]
  },
  {
   "cell_type": "code",
   "execution_count": 8,
   "metadata": {},
   "outputs": [
    {
     "data": {
      "text/plain": [
       "495.8904109589041"
      ]
     },
     "execution_count": 8,
     "metadata": {},
     "output_type": "execute_result"
    }
   ],
   "source": [
    "premium = 10**3\n",
    "earned_premium(premium, date(2020, 7, 1), date(2021, 7, 1), date(2020, 1, 1), date(2021, 1, 1))\n",
    "earned_premium(premium, date(2020, 7, 1), date(2021, 7, 1), date(2021, 1, 1), date(2022, 1, 1))"
   ]
  },
  {
   "cell_type": "markdown",
   "metadata": {},
   "source": [
    "This function will return the calendar year intervals which bracket a list of dates. Note the use of `set()`."
   ]
  },
  {
   "cell_type": "code",
   "execution_count": 9,
   "metadata": {},
   "outputs": [],
   "source": [
    "def get_cy_intervals(dates_list):\n",
    "    \"\"\"\n",
    "    This function will return a list of calendar years\n",
    "    \"\"\"\n",
    "    the_years = set([a_date.year for a_date in dates_list])\n",
    "    cy_year = [[date(a_year, 1, 1), date(a_year + 1, 1, 1)] for a_year in the_years]\n",
    "    return cy_year"
   ]
  },
  {
   "cell_type": "markdown",
   "metadata": {},
   "source": [
    "We can see it in action here:"
   ]
  },
  {
   "cell_type": "code",
   "execution_count": 10,
   "metadata": {},
   "outputs": [
    {
     "data": {
      "text/plain": [
       "[[datetime.date(2020, 1, 1), datetime.date(2021, 1, 1)],\n",
       " [datetime.date(2021, 1, 1), datetime.date(2022, 1, 1)]]"
      ]
     },
     "execution_count": 10,
     "metadata": {},
     "output_type": "execute_result"
    }
   ],
   "source": [
    "some_dates = [\n",
    "    date(2020, 7, 1)\n",
    "    , date(2020, 12, 31)\n",
    "    , date(2021, 6, 30)\n",
    "]\n",
    "\n",
    "get_cy_intervals(some_dates)"
   ]
  },
  {
   "cell_type": "markdown",
   "metadata": {},
   "source": [
    "Those two functions will let us compute the earned premium in all of the calendar years in a policy coverage period."
   ]
  },
  {
   "cell_type": "code",
   "execution_count": 11,
   "metadata": {},
   "outputs": [],
   "source": [
    "def earned_premium_cy(written_premium, policy_start, policy_end):\n",
    "    \"\"\"\n",
    "    Calculate the amount of premium earned by calendar year for a single policy period\n",
    "    \"\"\"\n",
    "    cy_return = {}\n",
    "    for cy_start, cy_end in get_cy_intervals([policy_start, policy_end]):\n",
    "        cy_return[cy_start.year] = earned_premium(\n",
    "          written_premium, policy_start, policy_end, cy_start, cy_end\n",
    "        )\n",
    "    return cy_return\n"
   ]
  },
  {
   "cell_type": "markdown",
   "metadata": {},
   "source": [
    "Does it work?"
   ]
  },
  {
   "cell_type": "code",
   "execution_count": 12,
   "metadata": {},
   "outputs": [
    {
     "data": {
      "text/plain": [
       "{2020: 5054.945054945055, 2021: 4945.054945054945}"
      ]
     },
     "execution_count": 12,
     "metadata": {},
     "output_type": "execute_result"
    }
   ],
   "source": [
    "earned_premium_cy(10e3, date(2020, 7, 1), date(2021, 6, 30))"
   ]
  },
  {
   "cell_type": "markdown",
   "metadata": {},
   "source": [
    "It does!\n",
    "\n",
    "## All together now"
   ]
  },
  {
   "cell_type": "code",
   "execution_count": 13,
   "metadata": {},
   "outputs": [
    {
     "data": {
      "text/plain": [
       "{2020: 1706.729598023804, 2021: 1602.270401976196}"
      ]
     },
     "execution_count": 13,
     "metadata": {},
     "output_type": "execute_result"
    }
   ],
   "source": [
    "# Initialize empty dictionary to store total earned premium by calendar year\n",
    "cy_earned = {}\n",
    "for policy in policies:\n",
    "  \n",
    "  cy_ep = earned_premium_cy(policy['written_premium'], policy['effective_date'], policy['expiration_date'])\n",
    "  \n",
    "  for year in cy_ep:\n",
    "    if year in cy_earned:\n",
    "      cy_earned[year] += cy_ep[year]\n",
    "    else:\n",
    "      cy_earned[year] = cy_ep[year]\n",
    "\n",
    "cy_earned"
   ]
  },
  {
   "cell_type": "markdown",
   "metadata": {},
   "source": [
    "Here's a sneak preview of what's happening next week:"
   ]
  },
  {
   "cell_type": "code",
   "execution_count": 14,
   "metadata": {
    "lines_to_next_cell": 2
   },
   "outputs": [
    {
     "data": {
      "text/html": [
       "<div>\n",
       "<style scoped>\n",
       "    .dataframe tbody tr th:only-of-type {\n",
       "        vertical-align: middle;\n",
       "    }\n",
       "\n",
       "    .dataframe tbody tr th {\n",
       "        vertical-align: top;\n",
       "    }\n",
       "\n",
       "    .dataframe thead th {\n",
       "        text-align: right;\n",
       "    }\n",
       "</style>\n",
       "<table border=\"1\" class=\"dataframe\">\n",
       "  <thead>\n",
       "    <tr style=\"text-align: right;\">\n",
       "      <th></th>\n",
       "      <th>written_premium</th>\n",
       "      <th>effective_date</th>\n",
       "      <th>expiration_date</th>\n",
       "    </tr>\n",
       "  </thead>\n",
       "  <tbody>\n",
       "    <tr>\n",
       "      <th>0</th>\n",
       "      <td>989</td>\n",
       "      <td>2020-08-13</td>\n",
       "      <td>2021-08-13</td>\n",
       "    </tr>\n",
       "    <tr>\n",
       "      <th>1</th>\n",
       "      <td>119</td>\n",
       "      <td>2020-01-04</td>\n",
       "      <td>2021-01-04</td>\n",
       "    </tr>\n",
       "    <tr>\n",
       "      <th>2</th>\n",
       "      <td>92</td>\n",
       "      <td>2020-10-25</td>\n",
       "      <td>2021-10-25</td>\n",
       "    </tr>\n",
       "    <tr>\n",
       "      <th>3</th>\n",
       "      <td>35</td>\n",
       "      <td>2020-12-09</td>\n",
       "      <td>2021-12-09</td>\n",
       "    </tr>\n",
       "    <tr>\n",
       "      <th>4</th>\n",
       "      <td>709</td>\n",
       "      <td>2020-02-12</td>\n",
       "      <td>2021-02-12</td>\n",
       "    </tr>\n",
       "    <tr>\n",
       "      <th>5</th>\n",
       "      <td>100</td>\n",
       "      <td>2020-06-30</td>\n",
       "      <td>2021-06-30</td>\n",
       "    </tr>\n",
       "    <tr>\n",
       "      <th>6</th>\n",
       "      <td>242</td>\n",
       "      <td>2020-01-09</td>\n",
       "      <td>2021-01-09</td>\n",
       "    </tr>\n",
       "    <tr>\n",
       "      <th>7</th>\n",
       "      <td>31</td>\n",
       "      <td>2020-01-09</td>\n",
       "      <td>2021-01-09</td>\n",
       "    </tr>\n",
       "    <tr>\n",
       "      <th>8</th>\n",
       "      <td>354</td>\n",
       "      <td>2020-11-27</td>\n",
       "      <td>2021-11-27</td>\n",
       "    </tr>\n",
       "    <tr>\n",
       "      <th>9</th>\n",
       "      <td>638</td>\n",
       "      <td>2020-09-04</td>\n",
       "      <td>2021-09-04</td>\n",
       "    </tr>\n",
       "  </tbody>\n",
       "</table>\n",
       "</div>"
      ],
      "text/plain": [
       "   written_premium effective_date expiration_date\n",
       "0              989     2020-08-13      2021-08-13\n",
       "1              119     2020-01-04      2021-01-04\n",
       "2               92     2020-10-25      2021-10-25\n",
       "3               35     2020-12-09      2021-12-09\n",
       "4              709     2020-02-12      2021-02-12\n",
       "5              100     2020-06-30      2021-06-30\n",
       "6              242     2020-01-09      2021-01-09\n",
       "7               31     2020-01-09      2021-01-09\n",
       "8              354     2020-11-27      2021-11-27\n",
       "9              638     2020-09-04      2021-09-04"
      ]
     },
     "execution_count": 14,
     "metadata": {},
     "output_type": "execute_result"
    }
   ],
   "source": [
    "import pandas as pd\n",
    "\n",
    "pd.DataFrame(policies)"
   ]
  },
  {
   "cell_type": "markdown",
   "metadata": {},
   "source": [
    "For the student\n",
    "\n",
    "1. Simulate 5,000 simulations from a Poisson with an expected value of 5\n",
    "2. Do the same for a negative binomial. Use values of 0.2, 0.5 and 1.0 for the coefficient of variation"
   ]
  }
 ],
 "metadata": {
  "jupytext": {
   "cell_metadata_filter": "eval,tags,error,-all",
   "main_language": "python",
   "notebook_metadata_filter": "-all"
  },
  "kernelspec": {
   "display_name": "Python 3",
   "language": "python",
   "name": "python3"
  },
  "language_info": {
   "codemirror_mode": {
    "name": "ipython",
    "version": 3
   },
   "file_extension": ".py",
   "mimetype": "text/x-python",
   "name": "python",
   "nbconvert_exporter": "python",
   "pygments_lexer": "ipython3",
   "version": "3.9.12"
  }
 },
 "nbformat": 4,
 "nbformat_minor": 4
}
