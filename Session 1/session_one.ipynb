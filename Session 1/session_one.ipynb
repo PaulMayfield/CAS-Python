{
 "cells": [
  {
   "cell_type": "markdown",
   "metadata": {},
   "source": [
    "# Welcome\n",
    "\n",
    "Python programming basics: variables, types, lists, dictionaries, functions, dates, strings, dir, help, simulated transactional data, computing Earned Premium\n",
    "\n",
    "Welcome aboard! In our first session, we will do the following:\n",
    "\n",
    "| What | How long |\n",
    "|:------------------------------------------------------------------------|--------------:|\n",
    "| Preliminary stuff: up and running with Colab | 5 min |\n",
    "| Boring stuff: operations, data types, and package import | 15 min |\n",
    "| Semi-fun stuff: functions and loops | 15 min |\n",
    "| Fun stuff: iterable data | 15 min |\n",
    "| Some other stuff: stats functions, numpy and a tiny bit of matplotlib | 10 min |\n",
    "| Practical assignment: earned premium | 15 min |\n",
    "\n",
    "## Preliminary stuff: up and running with Colab\n",
    "\n",
    "There are several different ways to work with Python. You can run it from the command line, you can use an IDE like Spyder, PyCharm, or even RStudio (!), or you can use a notebook. A notebook requires the least amount of investment up front for instruction and it will cover most of your initial use cases.\n",
    "\n",
    "A notebook is divided into \"cells\". A cell may contain code or text. Text follows the [markdown](https://daringfireball.net/projects/markdown/) format.\n",
    "\n",
    "The computer perspective:\n",
    "\n",
    "**REPL**\n",
    "\n",
    "1. Read\n",
    "2. Execute\n",
    "3. Process\n",
    "4. Loop\n",
    "\n",
    "The user perspective:\n",
    "\n",
    "**TWRL**\n",
    "\n",
    "1. Type\n",
    "2. Wait\n",
    "3. Read\n",
    "4. Loop\n",
    "\n",
    "Contrast **REPL** / **TWRL** with spreadsheet, SQL, or compiled programming languages (C/C++, Fortran, etc). It's interactive, imperative (not descriptive) and (more or less) immediate.\n",
    "\n",
    "Go ahead and type a few basic commands into a cell, type CTRL+ENTER and see what happens."
   ]
  },
  {
   "cell_type": "code",
   "execution_count": 4,
   "metadata": {},
   "outputs": [
    {
     "data": {
      "text/plain": [
       "11"
      ]
     },
     "execution_count": 4,
     "metadata": {},
     "output_type": "execute_result"
    }
   ],
   "source": [
    "5 + 6"
   ]
  },
  {
   "cell_type": "markdown",
   "metadata": {},
   "source": [
    "# Boring stuff: operators, data types and package import\n",
    "\n",
    "## Objects\n",
    "\n",
    "An object is an area of storage in memory, similar to a cell in a spreadsheet. You may also see the word \"variable\" (similar to a random variable in statistics) to describe this concept.\n",
    "\n",
    "Objects may be created by assigning the result of an operation to the name of the object."
   ]
  },
  {
   "cell_type": "code",
   "execution_count": 5,
   "metadata": {},
   "outputs": [],
   "source": [
    "x = 5"
   ]
  },
  {
   "cell_type": "markdown",
   "metadata": {},
   "source": [
    "Typing the name of a variable will cause the value of that variable to be printed."
   ]
  },
  {
   "cell_type": "code",
   "execution_count": 6,
   "metadata": {},
   "outputs": [
    {
     "data": {
      "text/plain": [
       "5"
      ]
     },
     "execution_count": 6,
     "metadata": {},
     "output_type": "execute_result"
    }
   ],
   "source": [
    "x"
   ]
  },
  {
   "cell_type": "markdown",
   "metadata": {},
   "source": [
    "In a notebook, only the most recent output is printed."
   ]
  },
  {
   "cell_type": "code",
   "execution_count": 24,
   "metadata": {},
   "outputs": [
    {
     "data": {
      "text/plain": [
       "100"
      ]
     },
     "execution_count": 24,
     "metadata": {},
     "output_type": "execute_result"
    },
    {
     "data": {
      "text/plain": [
       "True"
      ]
     },
     "execution_count": 24,
     "metadata": {},
     "output_type": "execute_result"
    }
   ],
   "source": [
    "y = 100\n",
    "y\n",
    "x"
   ]
  },
  {
   "cell_type": "markdown",
   "metadata": {},
   "source": [
    "### Multiple assignment\n",
    "\n",
    "Python has support for multiple assignment. Check this out:"
   ]
  },
  {
   "cell_type": "code",
   "execution_count": 25,
   "metadata": {},
   "outputs": [
    {
     "data": {
      "text/plain": [
       "(2, 5)"
      ]
     },
     "execution_count": 25,
     "metadata": {},
     "output_type": "execute_result"
    },
    {
     "data": {
      "text/plain": [
       "(5, 2)"
      ]
     },
     "execution_count": 25,
     "metadata": {},
     "output_type": "execute_result"
    }
   ],
   "source": [
    "x = 2\n",
    "y = 5\n",
    "x, y\n",
    "\n",
    "x, y = y, x\n",
    "\n",
    "x, y"
   ]
  },
  {
   "cell_type": "markdown",
   "metadata": {},
   "source": [
    "## Data types\n",
    "\n",
    "Python data types are about what you would expect from a programming language. Scalar/primitive types are as follows:\n",
    "\n",
    "* boolean\n",
    "* integer\n",
    "* float\n",
    "* string\n",
    "\n",
    "There are also `complex` and `bytes`. We will not go into those. Just for fun, though, here's a complex number:"
   ]
  },
  {
   "cell_type": "code",
   "execution_count": 26,
   "metadata": {},
   "outputs": [
    {
     "data": {
      "text/plain": [
       "(1.2246467991473532e-16+2j)"
      ]
     },
     "execution_count": 26,
     "metadata": {},
     "output_type": "execute_result"
    }
   ],
   "source": [
    "(-4) ** (1 / 2)"
   ]
  },
  {
   "cell_type": "markdown",
   "metadata": {},
   "source": [
    "You can query the object type using the `type()` function. "
   ]
  },
  {
   "cell_type": "code",
   "execution_count": 27,
   "metadata": {},
   "outputs": [
    {
     "data": {
      "text/plain": [
       "int"
      ]
     },
     "execution_count": 27,
     "metadata": {},
     "output_type": "execute_result"
    },
    {
     "data": {
      "text/plain": [
       "float"
      ]
     },
     "execution_count": 27,
     "metadata": {},
     "output_type": "execute_result"
    },
    {
     "data": {
      "text/plain": [
       "int"
      ]
     },
     "execution_count": 27,
     "metadata": {},
     "output_type": "execute_result"
    }
   ],
   "source": [
    "type(2)\n",
    "type(2.0)\n",
    "type(5 // 2) # We'll see why soon"
   ]
  },
  {
   "cell_type": "markdown",
   "metadata": {},
   "source": [
    "## Casting\n",
    "\n",
    "You can cast from one to another using functions like:\n",
    "\n",
    "`bool(some_value)`  -> boolean\n",
    "`int(some_value)`   -> integer\n",
    "`float(some_value)` -> float\n",
    "`str(some_value)`   -> string\n",
    "\n",
    "Upcasting runs as: boolean -> integer -> float -> complex -> string"
   ]
  },
  {
   "cell_type": "code",
   "execution_count": 28,
   "metadata": {},
   "outputs": [
    {
     "data": {
      "text/plain": [
       "True"
      ]
     },
     "execution_count": 28,
     "metadata": {},
     "output_type": "execute_result"
    },
    {
     "data": {
      "text/plain": [
       "1"
      ]
     },
     "execution_count": 28,
     "metadata": {},
     "output_type": "execute_result"
    },
    {
     "data": {
      "text/plain": [
       "1.0"
      ]
     },
     "execution_count": 28,
     "metadata": {},
     "output_type": "execute_result"
    },
    {
     "data": {
      "text/plain": [
       "'True'"
      ]
     },
     "execution_count": 28,
     "metadata": {},
     "output_type": "execute_result"
    }
   ],
   "source": [
    "some_value = True\n",
    "some_value\n",
    "int(some_value)\n",
    "float(some_value)\n",
    "str(some_value)"
   ]
  },
  {
   "cell_type": "markdown",
   "metadata": {},
   "source": [
    "Downcasting works when a conversion may be made unambiguously. Note that you may lose precision!"
   ]
  },
  {
   "cell_type": "code",
   "execution_count": 29,
   "metadata": {},
   "outputs": [
    {
     "data": {
      "text/plain": [
       "True"
      ]
     },
     "execution_count": 29,
     "metadata": {},
     "output_type": "execute_result"
    },
    {
     "data": {
      "text/plain": [
       "5"
      ]
     },
     "execution_count": 29,
     "metadata": {},
     "output_type": "execute_result"
    },
    {
     "data": {
      "text/plain": [
       "5.0"
      ]
     },
     "execution_count": 29,
     "metadata": {},
     "output_type": "execute_result"
    },
    {
     "data": {
      "text/plain": [
       "5"
      ]
     },
     "execution_count": 29,
     "metadata": {},
     "output_type": "execute_result"
    },
    {
     "data": {
      "text/plain": [
       "False"
      ]
     },
     "execution_count": 29,
     "metadata": {},
     "output_type": "execute_result"
    },
    {
     "data": {
      "text/plain": [
       "True"
      ]
     },
     "execution_count": 29,
     "metadata": {},
     "output_type": "execute_result"
    },
    {
     "data": {
      "text/plain": [
       "bool"
      ]
     },
     "execution_count": 29,
     "metadata": {},
     "output_type": "execute_result"
    },
    {
     "data": {
      "text/plain": [
       "'Dave'"
      ]
     },
     "execution_count": 29,
     "metadata": {},
     "output_type": "execute_result"
    },
    {
     "data": {
      "text/plain": [
       "str"
      ]
     },
     "execution_count": 29,
     "metadata": {},
     "output_type": "execute_result"
    },
    {
     "ename": "TypeError",
     "evalue": "unsupported operand type(s) for +: 'bool' and 'str'",
     "output_type": "error",
     "traceback": [
      "\u001b[1;31m---------------------------------------------------------------------------\u001b[0m",
      "\u001b[1;31mTypeError\u001b[0m                                 Traceback (most recent call last)",
      "\u001b[1;32mc:\\Users\\Paul\\OneDrive\\Documents\\GitHub\\CAS-Python\\session_one.ipynb Cell 18\u001b[0m in \u001b[0;36m<cell line: 20>\u001b[1;34m()\u001b[0m\n\u001b[0;32m     <a href='vscode-notebook-cell:/c%3A/Users/Paul/OneDrive/Documents/GitHub/CAS-Python/session_one.ipynb#X23sZmlsZQ%3D%3D?line=15'>16</a>\u001b[0m name\n\u001b[0;32m     <a href='vscode-notebook-cell:/c%3A/Users/Paul/OneDrive/Documents/GitHub/CAS-Python/session_one.ipynb#X23sZmlsZQ%3D%3D?line=17'>18</a>\u001b[0m \u001b[39mtype\u001b[39m(name)\n\u001b[1;32m---> <a href='vscode-notebook-cell:/c%3A/Users/Paul/OneDrive/Documents/GitHub/CAS-Python/session_one.ipynb#X23sZmlsZQ%3D%3D?line=19'>20</a>\u001b[0m x \u001b[39m+\u001b[39;49m name\n\u001b[0;32m     <a href='vscode-notebook-cell:/c%3A/Users/Paul/OneDrive/Documents/GitHub/CAS-Python/session_one.ipynb#X23sZmlsZQ%3D%3D?line=21'>22</a>\u001b[0m \u001b[39m5\u001b[39m \u001b[39m*\u001b[39m \u001b[39m'\u001b[39m\u001b[39mDave\u001b[39m\u001b[39m'\u001b[39m\n",
      "\u001b[1;31mTypeError\u001b[0m: unsupported operand type(s) for +: 'bool' and 'str'"
     ]
    }
   ],
   "source": [
    "bool('True')\n",
    "int(5.6)\n",
    "float('5.0')\n",
    "int('5')\n",
    "\n",
    "x = True\n",
    "y = False\n",
    "\n",
    "x and y\n",
    "x or y\n",
    "\n",
    "type(x)\n",
    "\n",
    "name = 'Dave'\n",
    "\n",
    "name\n",
    "\n",
    "type(name)\n",
    "\n",
    "x + name\n",
    "\n",
    "5 * 'Dave'"
   ]
  },
  {
   "cell_type": "markdown",
   "metadata": {},
   "source": [
    "### More on strings\n",
    "\n",
    "Strings are delimited by single or double quotes."
   ]
  },
  {
   "cell_type": "code",
   "execution_count": 20,
   "metadata": {},
   "outputs": [
    {
     "data": {
      "text/plain": [
       "'And so is this'"
      ]
     },
     "execution_count": 20,
     "metadata": {},
     "output_type": "execute_result"
    }
   ],
   "source": [
    "'This is a string'\n",
    "\"And so is this\""
   ]
  },
  {
   "cell_type": "markdown",
   "metadata": {},
   "source": [
    "You can create a multi-line string by using triple quotes"
   ]
  },
  {
   "cell_type": "code",
   "execution_count": 21,
   "metadata": {},
   "outputs": [
    {
     "data": {
      "text/plain": [
       "\"This string will take more than one line\\nHere's the second line.\\n\""
      ]
     },
     "execution_count": 21,
     "metadata": {},
     "output_type": "execute_result"
    }
   ],
   "source": [
    "\"\"\"This string will take more than one line\n",
    "Here's the second line.\n",
    "\"\"\""
   ]
  },
  {
   "cell_type": "markdown",
   "metadata": {},
   "source": [
    "To include a single quote character, you can use double quotes, or escape the single quote with a `\\` character."
   ]
  },
  {
   "cell_type": "code",
   "execution_count": 30,
   "metadata": {},
   "outputs": [
    {
     "name": "stdout",
     "output_type": "stream",
     "text": [
      "This'll do for an apostrophe\n",
      "This'll also do\n"
     ]
    }
   ],
   "source": [
    "print(\"This'll do for an apostrophe\")\n",
    "print('This\\'ll also do')"
   ]
  },
  {
   "cell_type": "markdown",
   "metadata": {},
   "source": [
    "Speaking of `\\`, if you need one, you'll need to type it twice."
   ]
  },
  {
   "cell_type": "code",
   "execution_count": 31,
   "metadata": {},
   "outputs": [
    {
     "name": "stdout",
     "output_type": "stream",
     "text": [
      "The modulus operator is given by \\\n"
     ]
    }
   ],
   "source": [
    "print(\"The modulus operator is given by \\\\\")"
   ]
  },
  {
   "cell_type": "markdown",
   "metadata": {},
   "source": [
    "`\\n` and `\\t` are special characters which will give a new line and tab, respectively."
   ]
  },
  {
   "cell_type": "code",
   "execution_count": 33,
   "metadata": {},
   "outputs": [
    {
     "data": {
      "text/plain": [
       "\"I'm done with this line.\\nTime for another\""
      ]
     },
     "execution_count": 33,
     "metadata": {},
     "output_type": "execute_result"
    },
    {
     "data": {
      "text/plain": [
       "'Wait for it: \\tHere is is'"
      ]
     },
     "execution_count": 33,
     "metadata": {},
     "output_type": "execute_result"
    }
   ],
   "source": [
    "\"I'm done with this line.\\nTime for another\"\n",
    "\"Wait for it: \\tHere is is\""
   ]
  },
  {
   "cell_type": "markdown",
   "metadata": {},
   "source": [
    "## Operators\n",
    "\n",
    "Most operators are binary. Negation (in a numeric, not a logical sense) is about the only unary operation we'll encounter. Technically, `+` is also a unary operator, but it has no effect, so if fairly trivial. It will not convert a negative number to a positive, it simply returns the operand."
   ]
  },
  {
   "cell_type": "code",
   "execution_count": 34,
   "metadata": {},
   "outputs": [
    {
     "data": {
      "text/plain": [
       "-5"
      ]
     },
     "execution_count": 34,
     "metadata": {},
     "output_type": "execute_result"
    },
    {
     "data": {
      "text/plain": [
       "5"
      ]
     },
     "execution_count": 34,
     "metadata": {},
     "output_type": "execute_result"
    },
    {
     "data": {
      "text/plain": [
       "-5"
      ]
     },
     "execution_count": 34,
     "metadata": {},
     "output_type": "execute_result"
    }
   ],
   "source": [
    "-5\n",
    "+5\n",
    "+(-5)"
   ]
  },
  {
   "cell_type": "markdown",
   "metadata": {},
   "source": [
    "### Numeric\n",
    "\n",
    "Numeric operators are the ones we encounter is basic math. One potential gotcha for R/Excel users is that the caret operator is a bitwise XOR, _not_ exponentiation. "
   ]
  },
  {
   "cell_type": "code",
   "execution_count": 35,
   "metadata": {},
   "outputs": [
    {
     "data": {
      "text/plain": [
       "7"
      ]
     },
     "execution_count": 35,
     "metadata": {},
     "output_type": "execute_result"
    },
    {
     "data": {
      "text/plain": [
       "10"
      ]
     },
     "execution_count": 35,
     "metadata": {},
     "output_type": "execute_result"
    },
    {
     "data": {
      "text/plain": [
       "0.4"
      ]
     },
     "execution_count": 35,
     "metadata": {},
     "output_type": "execute_result"
    },
    {
     "data": {
      "text/plain": [
       "0"
      ]
     },
     "execution_count": 35,
     "metadata": {},
     "output_type": "execute_result"
    },
    {
     "data": {
      "text/plain": [
       "2"
      ]
     },
     "execution_count": 35,
     "metadata": {},
     "output_type": "execute_result"
    },
    {
     "data": {
      "text/plain": [
       "32"
      ]
     },
     "execution_count": 35,
     "metadata": {},
     "output_type": "execute_result"
    }
   ],
   "source": [
    "2 + 5\n",
    "2 * 5\n",
    "2 / 5\n",
    "2 // 5  # Drop the remainder\n",
    "2 % 5   # Return the modulus\n",
    "2 ** 5  # Exponentiation"
   ]
  },
  {
   "cell_type": "markdown",
   "metadata": {},
   "source": [
    "The `+` and `*` operators can also work on character data. We'll see more of this in a moment.\n",
    "\n",
    "### Logical comparison"
   ]
  },
  {
   "cell_type": "code",
   "execution_count": 36,
   "metadata": {},
   "outputs": [
    {
     "data": {
      "text/plain": [
       "False"
      ]
     },
     "execution_count": 36,
     "metadata": {},
     "output_type": "execute_result"
    },
    {
     "data": {
      "text/plain": [
       "True"
      ]
     },
     "execution_count": 36,
     "metadata": {},
     "output_type": "execute_result"
    },
    {
     "data": {
      "text/plain": [
       "True"
      ]
     },
     "execution_count": 36,
     "metadata": {},
     "output_type": "execute_result"
    },
    {
     "data": {
      "text/plain": [
       "False"
      ]
     },
     "execution_count": 36,
     "metadata": {},
     "output_type": "execute_result"
    }
   ],
   "source": [
    "2 == 5  # Note the double equal sign!\n",
    "2 != 5\n",
    "2 < 5\n",
    "2 > 5"
   ]
  },
  {
   "cell_type": "markdown",
   "metadata": {},
   "source": [
    "### Logical operators\n",
    "\n",
    "Logical operators use the very expressive and brief English words `and` and `or`."
   ]
  },
  {
   "cell_type": "code",
   "execution_count": 37,
   "metadata": {},
   "outputs": [
    {
     "data": {
      "text/plain": [
       "True"
      ]
     },
     "execution_count": 37,
     "metadata": {},
     "output_type": "execute_result"
    },
    {
     "data": {
      "text/plain": [
       "False"
      ]
     },
     "execution_count": 37,
     "metadata": {},
     "output_type": "execute_result"
    }
   ],
   "source": [
    "True or False # logical OR\n",
    "True and False # logical AND"
   ]
  },
  {
   "cell_type": "markdown",
   "metadata": {},
   "source": [
    "Don't confuse them with the bitwise operators `&` and `|`. They're equivalent for logical objects, but not so for integers. They don't work at all for floats."
   ]
  },
  {
   "cell_type": "code",
   "execution_count": 38,
   "metadata": {},
   "outputs": [
    {
     "data": {
      "text/plain": [
       "True"
      ]
     },
     "execution_count": 38,
     "metadata": {},
     "output_type": "execute_result"
    },
    {
     "data": {
      "text/plain": [
       "True"
      ]
     },
     "execution_count": 38,
     "metadata": {},
     "output_type": "execute_result"
    },
    {
     "data": {
      "text/plain": [
       "1"
      ]
     },
     "execution_count": 38,
     "metadata": {},
     "output_type": "execute_result"
    },
    {
     "data": {
      "text/plain": [
       "5"
      ]
     },
     "execution_count": 38,
     "metadata": {},
     "output_type": "execute_result"
    },
    {
     "data": {
      "text/plain": [
       "1.0"
      ]
     },
     "execution_count": 38,
     "metadata": {},
     "output_type": "execute_result"
    },
    {
     "ename": "TypeError",
     "evalue": "unsupported operand type(s) for |: 'float' and 'float'",
     "output_type": "error",
     "traceback": [
      "\u001b[1;31m---------------------------------------------------------------------------\u001b[0m",
      "\u001b[1;31mTypeError\u001b[0m                                 Traceback (most recent call last)",
      "\u001b[1;32mc:\\Users\\Paul\\OneDrive\\Documents\\GitHub\\CAS-Python\\session_one.ipynb Cell 38\u001b[0m in \u001b[0;36m<cell line: 8>\u001b[1;34m()\u001b[0m\n\u001b[0;32m      <a href='vscode-notebook-cell:/c%3A/Users/Paul/OneDrive/Documents/GitHub/CAS-Python/session_one.ipynb#X52sZmlsZQ%3D%3D?line=4'>5</a>\u001b[0m \u001b[39m1\u001b[39m \u001b[39m|\u001b[39m \u001b[39m4\u001b[39m\n\u001b[0;32m      <a href='vscode-notebook-cell:/c%3A/Users/Paul/OneDrive/Documents/GitHub/CAS-Python/session_one.ipynb#X52sZmlsZQ%3D%3D?line=6'>7</a>\u001b[0m \u001b[39m1.0\u001b[39m \u001b[39mor\u001b[39;00m \u001b[39m4.0\u001b[39m\n\u001b[1;32m----> <a href='vscode-notebook-cell:/c%3A/Users/Paul/OneDrive/Documents/GitHub/CAS-Python/session_one.ipynb#X52sZmlsZQ%3D%3D?line=7'>8</a>\u001b[0m \u001b[39m1.0\u001b[39;49m \u001b[39m|\u001b[39;49m \u001b[39m4.0\u001b[39;49m\n\u001b[0;32m     <a href='vscode-notebook-cell:/c%3A/Users/Paul/OneDrive/Documents/GitHub/CAS-Python/session_one.ipynb#X52sZmlsZQ%3D%3D?line=9'>10</a>\u001b[0m \u001b[39mTrue\u001b[39;00m \u001b[39m&\u001b[39m \u001b[39mFalse\u001b[39;00m\n\u001b[0;32m     <a href='vscode-notebook-cell:/c%3A/Users/Paul/OneDrive/Documents/GitHub/CAS-Python/session_one.ipynb#X52sZmlsZQ%3D%3D?line=10'>11</a>\u001b[0m \u001b[39mTrue\u001b[39;00m \u001b[39mand\u001b[39;00m \u001b[39mFalse\u001b[39;00m\n",
      "\u001b[1;31mTypeError\u001b[0m: unsupported operand type(s) for |: 'float' and 'float'"
     ]
    }
   ],
   "source": [
    "True | False\n",
    "True or False\n",
    "\n",
    "1 or 4\n",
    "1 | 4\n",
    "\n",
    "1.0 or 4.0\n",
    "1.0 | 4.0\n",
    "\n",
    "True & False\n",
    "True and False\n",
    "\n",
    "1 and 4\n",
    "1 & 4"
   ]
  },
  {
   "cell_type": "markdown",
   "metadata": {},
   "source": [
    "### Operate and assign\n",
    "\n",
    "You can use the basic operators with an equal sign to alter an object in place."
   ]
  },
  {
   "cell_type": "code",
   "execution_count": 39,
   "metadata": {},
   "outputs": [
    {
     "data": {
      "text/plain": [
       "5"
      ]
     },
     "execution_count": 39,
     "metadata": {},
     "output_type": "execute_result"
    },
    {
     "data": {
      "text/plain": [
       "9"
      ]
     },
     "execution_count": 39,
     "metadata": {},
     "output_type": "execute_result"
    },
    {
     "data": {
      "text/plain": [
       "'Dave Thomas'"
      ]
     },
     "execution_count": 39,
     "metadata": {},
     "output_type": "execute_result"
    }
   ],
   "source": [
    "x = 5\n",
    "x\n",
    "x += 4\n",
    "x\n",
    "\n",
    "y = \"Dave\"\n",
    "y += \" Thomas\"\n",
    "y"
   ]
  },
  {
   "cell_type": "markdown",
   "metadata": {},
   "source": [
    "### String operations\n",
    "\n",
    "The `+` and `*` operator can also apply to strings. This has to do with the properties of a list object, which we'll get to later. Logical comparisons also work."
   ]
  },
  {
   "cell_type": "code",
   "execution_count": 40,
   "metadata": {},
   "outputs": [
    {
     "data": {
      "text/plain": [
       "'DaveThomas'"
      ]
     },
     "execution_count": 40,
     "metadata": {},
     "output_type": "execute_result"
    },
    {
     "data": {
      "text/plain": [
       "'DaveDaveDave'"
      ]
     },
     "execution_count": 40,
     "metadata": {},
     "output_type": "execute_result"
    },
    {
     "ename": "TypeError",
     "evalue": "can't multiply sequence by non-int of type 'str'",
     "output_type": "error",
     "traceback": [
      "\u001b[1;31m---------------------------------------------------------------------------\u001b[0m",
      "\u001b[1;31mTypeError\u001b[0m                                 Traceback (most recent call last)",
      "\u001b[1;32mc:\\Users\\Paul\\OneDrive\\Documents\\GitHub\\CAS-Python\\session_one.ipynb Cell 42\u001b[0m in \u001b[0;36m<cell line: 3>\u001b[1;34m()\u001b[0m\n\u001b[0;32m      <a href='vscode-notebook-cell:/c%3A/Users/Paul/OneDrive/Documents/GitHub/CAS-Python/session_one.ipynb#X56sZmlsZQ%3D%3D?line=0'>1</a>\u001b[0m \u001b[39m'\u001b[39m\u001b[39mDave\u001b[39m\u001b[39m'\u001b[39m \u001b[39m+\u001b[39m \u001b[39m'\u001b[39m\u001b[39mThomas\u001b[39m\u001b[39m'\u001b[39m\n\u001b[0;32m      <a href='vscode-notebook-cell:/c%3A/Users/Paul/OneDrive/Documents/GitHub/CAS-Python/session_one.ipynb#X56sZmlsZQ%3D%3D?line=1'>2</a>\u001b[0m \u001b[39m'\u001b[39m\u001b[39mDave\u001b[39m\u001b[39m'\u001b[39m \u001b[39m*\u001b[39m \u001b[39m3\u001b[39m\n\u001b[1;32m----> <a href='vscode-notebook-cell:/c%3A/Users/Paul/OneDrive/Documents/GitHub/CAS-Python/session_one.ipynb#X56sZmlsZQ%3D%3D?line=2'>3</a>\u001b[0m \u001b[39m'\u001b[39;49m\u001b[39mDave\u001b[39;49m\u001b[39m'\u001b[39;49m \u001b[39m*\u001b[39;49m \u001b[39m'\u001b[39;49m\u001b[39mThomas\u001b[39;49m\u001b[39m'\u001b[39;49m\n\u001b[0;32m      <a href='vscode-notebook-cell:/c%3A/Users/Paul/OneDrive/Documents/GitHub/CAS-Python/session_one.ipynb#X56sZmlsZQ%3D%3D?line=3'>4</a>\u001b[0m \u001b[39m'\u001b[39m\u001b[39mDave\u001b[39m\u001b[39m'\u001b[39m \u001b[39m<\u001b[39m \u001b[39m'\u001b[39m\u001b[39mThomas\u001b[39m\u001b[39m'\u001b[39m\n\u001b[0;32m      <a href='vscode-notebook-cell:/c%3A/Users/Paul/OneDrive/Documents/GitHub/CAS-Python/session_one.ipynb#X56sZmlsZQ%3D%3D?line=4'>5</a>\u001b[0m \u001b[39m'\u001b[39m\u001b[39mDave\u001b[39m\u001b[39m'\u001b[39m \u001b[39m>\u001b[39m \u001b[39m'\u001b[39m\u001b[39mThomas\u001b[39m\u001b[39m'\u001b[39m\n",
      "\u001b[1;31mTypeError\u001b[0m: can't multiply sequence by non-int of type 'str'"
     ]
    }
   ],
   "source": [
    "'Dave' + 'Thomas'\n",
    "'Dave' * 3\n",
    "'Dave' * 'Thomas'\n",
    "'Dave' < 'Thomas'\n",
    "'Dave' > 'Thomas'"
   ]
  },
  {
   "cell_type": "code",
   "execution_count": 42,
   "metadata": {},
   "outputs": [
    {
     "data": {
      "text/plain": [
       "9.0"
      ]
     },
     "execution_count": 42,
     "metadata": {},
     "output_type": "execute_result"
    },
    {
     "data": {
      "text/plain": [
       "'9Dave'"
      ]
     },
     "execution_count": 42,
     "metadata": {},
     "output_type": "execute_result"
    }
   ],
   "source": [
    "float(x)\n",
    "\n",
    "str(x) + name"
   ]
  },
  {
   "cell_type": "markdown",
   "metadata": {},
   "source": [
    "### f-strings\n",
    "\n",
    "An `f-string` is a way to have objects formatted and placed into a string, as below."
   ]
  },
  {
   "cell_type": "code",
   "execution_count": 43,
   "metadata": {},
   "outputs": [
    {
     "data": {
      "text/plain": [
       "'It is 9 that my name is Dave.'"
      ]
     },
     "execution_count": 43,
     "metadata": {},
     "output_type": "execute_result"
    },
    {
     "data": {
      "text/plain": [
       "'Pi is equal to 3.142'"
      ]
     },
     "execution_count": 43,
     "metadata": {},
     "output_type": "execute_result"
    }
   ],
   "source": [
    "f'It is {x} that my name is {name}.'\n",
    "\n",
    "f'Pi is equal to {3.1415927:.3f}'"
   ]
  },
  {
   "cell_type": "code",
   "execution_count": 44,
   "metadata": {},
   "outputs": [
    {
     "data": {
      "text/plain": [
       "'DAVE'"
      ]
     },
     "execution_count": 44,
     "metadata": {},
     "output_type": "execute_result"
    }
   ],
   "source": [
    "name.upper()"
   ]
  },
  {
   "cell_type": "markdown",
   "metadata": {},
   "source": [
    "Note that often methods on objects do not change the objects themselves. Some functions - particularly in Pandas - will modify an object in place."
   ]
  },
  {
   "cell_type": "code",
   "execution_count": 45,
   "metadata": {
    "lines_to_next_cell": 2
   },
   "outputs": [
    {
     "data": {
      "text/plain": [
       "'Dave'"
      ]
     },
     "execution_count": 45,
     "metadata": {},
     "output_type": "execute_result"
    },
    {
     "data": {
      "text/plain": [
       "'DAVE'"
      ]
     },
     "execution_count": 45,
     "metadata": {},
     "output_type": "execute_result"
    }
   ],
   "source": [
    "name\n",
    "name = name.upper()\n",
    "name"
   ]
  },
  {
   "cell_type": "markdown",
   "metadata": {},
   "source": [
    "## Modules\n",
    "\n",
    "Functionality beyond what is found in the base install is available by importing other modules. Similar to an Add-in in Excel, or a package in R.\n",
    "\n",
    "Three ways to do this.\n",
    "\n",
    "1. `from [package] import [item_1], [item_2]`\n",
    "2. `import [package] as [abbreviation]`\n",
    "3. `import [package]`\n",
    "\n",
    "The first option will bring those items into the global namespace.\n",
    "\n",
    "```\n",
    "from datetime import date\n",
    "\n",
    "christmas = date(2020, 12, 25)\n",
    "```\n",
    "\n",
    "The second option means that you will need to prefix the name of a function with the abbreviation\n",
    "\n",
    "```\n",
    "import datetime as dt\n",
    "\n",
    "christmas = dt.date(2020, 12, 25)\n",
    "```\n",
    "\n",
    "No abbreviation means that you will to prefix the function name with the full name of the package.\n",
    "\n",
    "```\n",
    "import datetime\n",
    "\n",
    "christmas = datetime.date(2020, 12, 25)\n",
    "```\n",
    "\n",
    "Python installs with quite a few additional packages. If there is one that you need, you can install via `pip` or `conda` at the command line.\n",
    "\n",
    "`pip install scikit-learn`\n",
    "or\n",
    "`conda install scikit-learn`\n",
    "\n",
    "### Math\n",
    "\n",
    "You can find some additional mathematical functions and constants in the `math` package: https://docs.python.org/3/library/math.html."
   ]
  },
  {
   "cell_type": "code",
   "execution_count": 46,
   "metadata": {},
   "outputs": [],
   "source": [
    "from math import sqrt, pi, e"
   ]
  },
  {
   "cell_type": "markdown",
   "metadata": {},
   "source": [
    "## Dates\n",
    "\n",
    "Dates require the `datetime` package. "
   ]
  },
  {
   "cell_type": "code",
   "execution_count": 50,
   "metadata": {},
   "outputs": [
    {
     "data": {
      "text/plain": [
       "datetime.date(2020, 12, 25)"
      ]
     },
     "execution_count": 50,
     "metadata": {},
     "output_type": "execute_result"
    },
    {
     "data": {
      "text/plain": [
       "datetime.date(2020, 4, 30)"
      ]
     },
     "execution_count": 50,
     "metadata": {},
     "output_type": "execute_result"
    },
    {
     "data": {
      "text/plain": [
       "datetime.timedelta(days=55)"
      ]
     },
     "execution_count": 50,
     "metadata": {},
     "output_type": "execute_result"
    }
   ],
   "source": [
    "from datetime import date, timedelta\n",
    "\n",
    "christmas = date(2020, 12, 25)\n",
    "christmas\n",
    "\n",
    "spring_solstice = date(2020, 4, 30)\n",
    "spring_solstice\n",
    "\n",
    "halloween = date(2020, 10, 31)\n",
    "\n",
    "christmas - halloween"
   ]
  },
  {
   "cell_type": "markdown",
   "metadata": {},
   "source": [
    "Date arithmetic works like you should expect."
   ]
  },
  {
   "cell_type": "code",
   "execution_count": 48,
   "metadata": {},
   "outputs": [
    {
     "data": {
      "text/plain": [
       "datetime.timedelta(days=30)"
      ]
     },
     "execution_count": 48,
     "metadata": {},
     "output_type": "execute_result"
    }
   ],
   "source": [
    "date(2020, 1, 31) - date(2020, 1, 1)"
   ]
  },
  {
   "cell_type": "markdown",
   "metadata": {},
   "source": [
    "A date represents one instant $\\epsilon$ after midnight."
   ]
  },
  {
   "cell_type": "code",
   "execution_count": 51,
   "metadata": {},
   "outputs": [
    {
     "data": {
      "text/plain": [
       "datetime.timedelta(days=364)"
      ]
     },
     "execution_count": 51,
     "metadata": {},
     "output_type": "execute_result"
    },
    {
     "data": {
      "text/plain": [
       "0.1506849315068493"
      ]
     },
     "execution_count": 51,
     "metadata": {},
     "output_type": "execute_result"
    }
   ],
   "source": [
    "date(2010, 12, 31) - date(2010, 1, 1)\n",
    "\n",
    "(christmas - halloween) / (date(2020, 12, 31) - date(2020, 1, 1))"
   ]
  },
  {
   "cell_type": "markdown",
   "metadata": {},
   "source": [
    "You can use the `replace` function to return an object whose elements are changed."
   ]
  },
  {
   "cell_type": "code",
   "execution_count": 54,
   "metadata": {},
   "outputs": [
    {
     "data": {
      "text/plain": [
       "datetime.date(1, 12, 25)"
      ]
     },
     "execution_count": 54,
     "metadata": {},
     "output_type": "execute_result"
    }
   ],
   "source": [
    "christmas = christmas.replace(year = 1)\n",
    "christmas"
   ]
  },
  {
   "cell_type": "markdown",
   "metadata": {},
   "source": [
    "## Miscellany\n",
    "\n",
    "Comments are noted by a single hash mark."
   ]
  },
  {
   "cell_type": "code",
   "execution_count": 55,
   "metadata": {},
   "outputs": [],
   "source": [
    "# This is a comment"
   ]
  },
  {
   "cell_type": "markdown",
   "metadata": {},
   "source": [
    "### Classes/OOP\n",
    "\n",
    "We won't cover this. However, these are very good things and you should know about them.\n",
    "\n",
    "### Coding practices\n",
    "\n",
    "Code with the same attention to detail that you apply for getting dressed for a job interview. Intent matters. Python has a de facto standard commonly referred to as PEP-8: https://www.python.org/dev/peps/pep-0008/. \n",
    "\n",
    "Quick notes:\n",
    "\n",
    "* Give your variables sensible, expressive names. `loss_ratio` > `LR`\n",
    "* Document _why_, not _what\n",
    "* Functions should do one and only one thing. Don't read in a file, construct a plot and save results in one monolithic function\n",
    "* Code is _read_ (by a human!) more often than it is written. Make your code readable.\n",
    "\n",
    "## Quick exercise:\n",
    "\n",
    "1. What is the sqaure root of pi?\n",
    "2. Express your birthday as a date.\n",
    "3. Use an f-string to wish yourself a happy birthday.\n",
    "4. Is \"A\" more or less than \"a\"? Why?\n",
    "5. Why does `type(5 // 2)` return `int`?\n",
    "\n",
    "# Semi-fun stuff: functions, loops and packages\n",
    "\n",
    "Spaces, not braces! The beginning of a code block is marked with a `:` at the end of the line. Subsequent lines are indented four spaces. An empty line indicates closure of the block. Note that we don't need to use `end if`, `next`, `loop`, or anything else to indicate that the block is closed.\n",
    "\n",
    "Blocks are used for:\n",
    "\n",
    "* Functions\n",
    "* Conditional blocks, e.g. if/else\n",
    "* Loops\n",
    "\n",
    "## Functions\n",
    "\n",
    "Defined by the keyword `def`, followed by an argument list within parentheses and then the aforementioned `:`. The value returned from the function is indicated by `return`."
   ]
  },
  {
   "cell_type": "code",
   "execution_count": 56,
   "metadata": {},
   "outputs": [],
   "source": [
    "def add_two(num_one, num_two):\n",
    "  return num_one + num_two\n"
   ]
  },
  {
   "cell_type": "markdown",
   "metadata": {},
   "source": [
    "Note that we did not specify data types in the function."
   ]
  },
  {
   "cell_type": "code",
   "execution_count": 57,
   "metadata": {},
   "outputs": [
    {
     "data": {
      "text/plain": [
       "7"
      ]
     },
     "execution_count": 57,
     "metadata": {},
     "output_type": "execute_result"
    },
    {
     "data": {
      "text/plain": [
       "'ab'"
      ]
     },
     "execution_count": 57,
     "metadata": {},
     "output_type": "execute_result"
    },
    {
     "data": {
      "text/plain": [
       "1"
      ]
     },
     "execution_count": 57,
     "metadata": {},
     "output_type": "execute_result"
    },
    {
     "data": {
      "text/plain": [
       "2"
      ]
     },
     "execution_count": 57,
     "metadata": {},
     "output_type": "execute_result"
    }
   ],
   "source": [
    "add_two(3, 4)\n",
    "add_two('a', 'b')\n",
    "add_two(True, False)\n",
    "add_two(True, 1)"
   ]
  },
  {
   "cell_type": "markdown",
   "metadata": {},
   "source": [
    "Functions may return more than one value. This is an amazing and useful thing!"
   ]
  },
  {
   "cell_type": "code",
   "execution_count": 58,
   "metadata": {},
   "outputs": [
    {
     "data": {
      "text/plain": [
       "(6.907754153983403, 0.001499999156281847)"
      ]
     },
     "execution_count": 58,
     "metadata": {},
     "output_type": "execute_result"
    }
   ],
   "source": [
    "from math import log\n",
    "\n",
    "def lognormal_params(mean, sd):\n",
    "  cv = sd / mean\n",
    "  sigma = sqrt(log(cv ** 2 + 1))\n",
    "  mu = log(mean) - (sigma ** 2 /2)\n",
    "  return mu, sigma\n",
    "\n",
    "mu, sigma = lognormal_params(10 ** 3, 1.5)\n",
    "mu, sigma"
   ]
  },
  {
   "cell_type": "markdown",
   "metadata": {},
   "source": [
    "Objects that are local to the function are not preserved"
   ]
  },
  {
   "cell_type": "code",
   "execution_count": 59,
   "metadata": {},
   "outputs": [
    {
     "data": {
      "text/plain": [
       "10"
      ]
     },
     "execution_count": 59,
     "metadata": {},
     "output_type": "execute_result"
    },
    {
     "ename": "NameError",
     "evalue": "name 'the_result' is not defined",
     "output_type": "error",
     "traceback": [
      "\u001b[1;31m---------------------------------------------------------------------------\u001b[0m",
      "\u001b[1;31mNameError\u001b[0m                                 Traceback (most recent call last)",
      "\u001b[1;32mc:\\Users\\Paul\\OneDrive\\Documents\\GitHub\\CAS-Python\\session_one.ipynb Cell 68\u001b[0m in \u001b[0;36m<cell line: 6>\u001b[1;34m()\u001b[0m\n\u001b[0;32m      <a href='vscode-notebook-cell:/c%3A/Users/Paul/OneDrive/Documents/GitHub/CAS-Python/session_one.ipynb#Y124sZmlsZQ%3D%3D?line=2'>3</a>\u001b[0m   \u001b[39mreturn\u001b[39;00m the_result\n\u001b[0;32m      <a href='vscode-notebook-cell:/c%3A/Users/Paul/OneDrive/Documents/GitHub/CAS-Python/session_one.ipynb#Y124sZmlsZQ%3D%3D?line=4'>5</a>\u001b[0m add_five(\u001b[39m5\u001b[39m)\n\u001b[1;32m----> <a href='vscode-notebook-cell:/c%3A/Users/Paul/OneDrive/Documents/GitHub/CAS-Python/session_one.ipynb#Y124sZmlsZQ%3D%3D?line=5'>6</a>\u001b[0m the_result\n",
      "\u001b[1;31mNameError\u001b[0m: name 'the_result' is not defined"
     ]
    }
   ],
   "source": [
    "def add_five(x):\n",
    "  the_result = x + 5\n",
    "  return the_result\n",
    "\n",
    "add_five(5)\n",
    "the_result"
   ]
  },
  {
   "cell_type": "markdown",
   "metadata": {},
   "source": [
    "Object names local to the function take precedence. In the block below, the function `add_five()` will _not_ use the object `the_result` which is defined in the global namespace."
   ]
  },
  {
   "cell_type": "code",
   "execution_count": 60,
   "metadata": {},
   "outputs": [
    {
     "data": {
      "text/plain": [
       "10"
      ]
     },
     "execution_count": 60,
     "metadata": {},
     "output_type": "execute_result"
    }
   ],
   "source": [
    "the_result = 100\n",
    "add_five(5)"
   ]
  },
  {
   "cell_type": "markdown",
   "metadata": {},
   "source": [
    "However, a function _will_ use a global variable if it exists."
   ]
  },
  {
   "cell_type": "code",
   "execution_count": 61,
   "metadata": {},
   "outputs": [
    {
     "data": {
      "text/plain": [
       "14"
      ]
     },
     "execution_count": 61,
     "metadata": {},
     "output_type": "execute_result"
    }
   ],
   "source": [
    "def add_const(x):\n",
    "  return x + y\n",
    "\n",
    "y = 4\n",
    "add_const(10)"
   ]
  },
  {
   "cell_type": "markdown",
   "metadata": {},
   "source": [
    "### Named and default arguments\n",
    "\n",
    "You can change the order of arguments to a function by specifying them by name. Unlike R, once you've specified an argument by name, you can't rely on position for the other arguments."
   ]
  },
  {
   "cell_type": "code",
   "execution_count": 62,
   "metadata": {},
   "outputs": [
    {
     "data": {
      "text/plain": [
       "10000"
      ]
     },
     "execution_count": 62,
     "metadata": {},
     "output_type": "execute_result"
    },
    {
     "data": {
      "text/plain": [
       "10000"
      ]
     },
     "execution_count": 62,
     "metadata": {},
     "output_type": "execute_result"
    }
   ],
   "source": [
    "def limited_loss(loss, limit):\n",
    "  \"\"\"\n",
    "  This function assumes that losses are from-ground-up\n",
    "  \"\"\"\n",
    "  loss = min(loss, limit)\n",
    "  return loss\n",
    "\n",
    "limited_loss(50000, 10000)\n",
    "limited_loss(limit = 10000, loss = 50000)"
   ]
  },
  {
   "cell_type": "markdown",
   "metadata": {},
   "source": [
    "You can also provide sensible defaults to function arguments."
   ]
  },
  {
   "cell_type": "code",
   "execution_count": 63,
   "metadata": {},
   "outputs": [
    {
     "data": {
      "text/plain": [
       "45000"
      ]
     },
     "execution_count": 63,
     "metadata": {},
     "output_type": "execute_result"
    },
    {
     "data": {
      "text/plain": [
       "49750"
      ]
     },
     "execution_count": 63,
     "metadata": {},
     "output_type": "execute_result"
    }
   ],
   "source": [
    "def limited_loss_2(loss, limit = 100000, deductible = 5000):\n",
    "  \"\"\"\n",
    "  This function assumes that losses are from-ground-up\n",
    "  \"\"\"\n",
    "  loss = min(loss, limit)\n",
    "  loss = max(0, loss - deductible)\n",
    "  return loss\n",
    "\n",
    "limited_loss_2(50000)\n",
    "limited_loss_2(50000, deductible=250)"
   ]
  },
  {
   "cell_type": "markdown",
   "metadata": {},
   "source": [
    "### lambda functions\n",
    "\n",
    "Python supports the creation of \"lambda\" functions. These are functions which can be written in one line. They're used for disposable functions largely for convenience."
   ]
  },
  {
   "cell_type": "code",
   "execution_count": 65,
   "metadata": {},
   "outputs": [
    {
     "data": {
      "text/plain": [
       "250"
      ]
     },
     "execution_count": 65,
     "metadata": {},
     "output_type": "execute_result"
    },
    {
     "data": {
      "text/plain": [
       "500"
      ]
     },
     "execution_count": 65,
     "metadata": {},
     "output_type": "execute_result"
    }
   ],
   "source": [
    "cap_500 = lambda x: min(x, 500)\n",
    "cap_500(250)\n",
    "cap_500(1000)"
   ]
  },
  {
   "cell_type": "markdown",
   "metadata": {},
   "source": [
    "### Quick exercise\n",
    "\n",
    "1. Create a function that will return the amount of time between a date and the today's date. You will want to import the `today()` function from `datetime.\n",
    "\n",
    "## Conditional execution"
   ]
  },
  {
   "cell_type": "code",
   "execution_count": 66,
   "metadata": {},
   "outputs": [
    {
     "name": "stdout",
     "output_type": "stream",
     "text": [
      "x is larger than 50\n"
     ]
    }
   ],
   "source": [
    "x = 100\n",
    "if x > 50:\n",
    "  print(\"x is larger than 50\")\n",
    "else:\n",
    "  print(x)\n"
   ]
  },
  {
   "cell_type": "markdown",
   "metadata": {},
   "source": [
    "Note that control execute at the first `True` branch."
   ]
  },
  {
   "cell_type": "code",
   "execution_count": 67,
   "metadata": {},
   "outputs": [
    {
     "name": "stdout",
     "output_type": "stream",
     "text": [
      "x is larger than 50\n"
     ]
    }
   ],
   "source": [
    "x = 100\n",
    "if x > 50:\n",
    "  print(\"x is larger than 50\")\n",
    "elif x > 75:\n",
    "  print(\"x is larger than 75\")\n",
    "else:\n",
    "  print(x)\n"
   ]
  },
  {
   "cell_type": "markdown",
   "metadata": {},
   "source": [
    "## Loops\n",
    "\n",
    "Python will always iterate over items in a collection. This will be a `list`, or a `tuple`, which we'll talk about shortly. For now, the `range()` function is a nice one for generating a sequence."
   ]
  },
  {
   "cell_type": "code",
   "execution_count": 68,
   "metadata": {},
   "outputs": [
    {
     "name": "stdout",
     "output_type": "stream",
     "text": [
      "0\n",
      "1\n",
      "2\n",
      "3\n",
      "4\n",
      "5\n",
      "6\n",
      "7\n",
      "8\n",
      "9\n",
      "2\n",
      "4\n",
      "6\n",
      "8\n",
      "10\n",
      "12\n",
      "14\n",
      "16\n",
      "18\n",
      "20\n"
     ]
    }
   ],
   "source": [
    "for i in range(5):\n",
    "    print(i)\n",
    "\n",
    "for i in range(5, 10):\n",
    "  print(i)\n",
    "\n",
    "for i in range(2, 21, 2):\n",
    "  print(i)\n"
   ]
  },
  {
   "cell_type": "markdown",
   "metadata": {},
   "source": [
    "Count the number of days in January"
   ]
  },
  {
   "cell_type": "code",
   "execution_count": 69,
   "metadata": {},
   "outputs": [
    {
     "data": {
      "text/plain": [
       "31"
      ]
     },
     "execution_count": 69,
     "metadata": {},
     "output_type": "execute_result"
    }
   ],
   "source": [
    "from datetime import timedelta\n",
    "\n",
    "jan_days = 0\n",
    "for day in range(365):\n",
    "  test_day = date.today() + timedelta(days = day)\n",
    "  if test_day.month == 1:\n",
    "    jan_days += 1\n",
    "\n",
    "jan_days"
   ]
  },
  {
   "cell_type": "markdown",
   "metadata": {},
   "source": [
    "## Quick exercises\n",
    "\n",
    "1. Create a function that will return the amount of time between a date and the today's date.\n",
    "2. Create a function that will wish someone a happy birthday, if today happens to be their birthday. If it is not, have it return a message indicating how many days remain until their birthday.\n",
    "\n",
    "# The fun stuff\n",
    "\n",
    "Python embraces the concept of iteration over a collection of objects. Contrast this with R or Matlab's embrace of vectorized data and operations. Similar, but with some important differences.\n",
    "\n",
    "## Lists\n",
    "\n",
    "Lists are one of the most common non-trivial data structures. Lists in Python are very similar to lists in R. They represent an ordered set of heterogeneous data.\n",
    "\n",
    "You can form a list by manually placing items inside square brackets. Items are separated by commas. Trailing commas are not a problem."
   ]
  },
  {
   "cell_type": "code",
   "execution_count": 70,
   "metadata": {},
   "outputs": [
    {
     "data": {
      "text/plain": [
       "[0, 1, 2, 3, 4]"
      ]
     },
     "execution_count": 70,
     "metadata": {},
     "output_type": "execute_result"
    }
   ],
   "source": [
    "my_list = [0, 1, 2, 3, 4, ]\n",
    "my_list"
   ]
  },
  {
   "cell_type": "markdown",
   "metadata": {},
   "source": [
    "Lists may store heterogeneous data types:"
   ]
  },
  {
   "cell_type": "code",
   "execution_count": 71,
   "metadata": {},
   "outputs": [
    {
     "data": {
      "text/plain": [
       "[0, 1, 2, 'a', 'b', 'c']"
      ]
     },
     "execution_count": 71,
     "metadata": {},
     "output_type": "execute_result"
    }
   ],
   "source": [
    "my_het_list = [0, 1, 2, 'a', 'b', 'c']\n",
    "my_het_list"
   ]
  },
  {
   "cell_type": "markdown",
   "metadata": {},
   "source": [
    "A list may contain another list:"
   ]
  },
  {
   "cell_type": "code",
   "execution_count": 72,
   "metadata": {},
   "outputs": [
    {
     "data": {
      "text/plain": [
       "['x', 'y', 'z', [0, 1, 2, 3, 4]]"
      ]
     },
     "execution_count": 72,
     "metadata": {},
     "output_type": "execute_result"
    }
   ],
   "source": [
    "my_recursive_list = ['x', 'y', 'z', my_list]\n",
    "my_recursive_list"
   ]
  },
  {
   "cell_type": "markdown",
   "metadata": {},
   "source": [
    "Elements in a list may be modified by assigning values. "
   ]
  },
  {
   "cell_type": "code",
   "execution_count": 73,
   "metadata": {},
   "outputs": [
    {
     "data": {
      "text/plain": [
       "[5, 1, 2, 3, 4]"
      ]
     },
     "execution_count": 73,
     "metadata": {},
     "output_type": "execute_result"
    },
    {
     "data": {
      "text/plain": [
       "[0, 1, 2, 3, 4]"
      ]
     },
     "execution_count": 73,
     "metadata": {},
     "output_type": "execute_result"
    }
   ],
   "source": [
    "my_list[0] = 5\n",
    "my_list\n",
    "my_list[0] = 0\n",
    "my_list"
   ]
  },
  {
   "cell_type": "markdown",
   "metadata": {},
   "source": [
    "You may append new elements using the `append()` function. Note that this will modify the object in place."
   ]
  },
  {
   "cell_type": "code",
   "execution_count": 74,
   "metadata": {},
   "outputs": [
    {
     "data": {
      "text/plain": [
       "[0, 1, 2, 3, 4, 5]"
      ]
     },
     "execution_count": 74,
     "metadata": {},
     "output_type": "execute_result"
    }
   ],
   "source": [
    "my_list.append(5)\n",
    "my_list"
   ]
  },
  {
   "cell_type": "markdown",
   "metadata": {},
   "source": [
    "You can sort a list using `sort()` and reverse it using `reverse()`. These will modify the list in place."
   ]
  },
  {
   "cell_type": "code",
   "execution_count": 75,
   "metadata": {},
   "outputs": [
    {
     "data": {
      "text/plain": [
       "[0, 1, 2, 3, 4, 5]"
      ]
     },
     "execution_count": 75,
     "metadata": {},
     "output_type": "execute_result"
    },
    {
     "data": {
      "text/plain": [
       "[5, 4, 3, 2, 1, 0]"
      ]
     },
     "execution_count": 75,
     "metadata": {},
     "output_type": "execute_result"
    },
    {
     "data": {
      "text/plain": [
       "[0, 1, 2, 3, 4, 5]"
      ]
     },
     "execution_count": 75,
     "metadata": {},
     "output_type": "execute_result"
    }
   ],
   "source": [
    "my_list.sort()\n",
    "my_list\n",
    "my_list.reverse()\n",
    "my_list\n",
    "my_list.sort()\n",
    "\n",
    "sorted(my_list)"
   ]
  },
  {
   "cell_type": "markdown",
   "metadata": {},
   "source": [
    "### Slicing\n",
    "\n",
    "You can extract individual elements of a list by referring to their ordinal position. Note that indexing is zero-based, in contrast to R, which is one-based. That is, the first element is at position zero. Despite what anyone may tell you, there is no advantage to zero- or one-based indexing."
   ]
  },
  {
   "cell_type": "code",
   "execution_count": 76,
   "metadata": {},
   "outputs": [
    {
     "data": {
      "text/plain": [
       "0"
      ]
     },
     "execution_count": 76,
     "metadata": {},
     "output_type": "execute_result"
    },
    {
     "data": {
      "text/plain": [
       "1"
      ]
     },
     "execution_count": 76,
     "metadata": {},
     "output_type": "execute_result"
    },
    {
     "data": {
      "text/plain": [
       "4"
      ]
     },
     "execution_count": 76,
     "metadata": {},
     "output_type": "execute_result"
    }
   ],
   "source": [
    "my_list[0]\n",
    "my_list[1]\n",
    "my_list[4]"
   ]
  },
  {
   "cell_type": "markdown",
   "metadata": {},
   "source": [
    "Passing in a negative number will extract elements starting from the end."
   ]
  },
  {
   "cell_type": "code",
   "execution_count": 77,
   "metadata": {},
   "outputs": [
    {
     "data": {
      "text/plain": [
       "5"
      ]
     },
     "execution_count": 77,
     "metadata": {},
     "output_type": "execute_result"
    },
    {
     "data": {
      "text/plain": [
       "3"
      ]
     },
     "execution_count": 77,
     "metadata": {},
     "output_type": "execute_result"
    }
   ],
   "source": [
    "my_list[-1]\n",
    "my_list[-3]"
   ]
  },
  {
   "cell_type": "markdown",
   "metadata": {},
   "source": [
    "Multiple elements may be extracted using the `:` slice operator.\n",
    "\n",
    "[start]:[end]:[step]\n",
    "\n",
    "Note that [end] is not inclusive.\n",
    "\n",
    "Omission of one of the elements means:\n",
    "\n",
    "* If step is blank, it will be one\n",
    "* If the start is beginning, it will begin at the first element\n",
    "* If the end is missing, it will end with the last element\n",
    "\n",
    "Negative:\n",
    "\n",
    "* Negative start means that it will begin from the end of the string\n",
    "* Negative end\n",
    "* Negative step means that results will be reversed"
   ]
  },
  {
   "cell_type": "code",
   "execution_count": 78,
   "metadata": {},
   "outputs": [
    {
     "data": {
      "text/plain": [
       "[0, 1, 2, 3]"
      ]
     },
     "execution_count": 78,
     "metadata": {},
     "output_type": "execute_result"
    },
    {
     "data": {
      "text/plain": [
       "[0, 2]"
      ]
     },
     "execution_count": 78,
     "metadata": {},
     "output_type": "execute_result"
    },
    {
     "data": {
      "text/plain": [
       "[0, 1, 2]"
      ]
     },
     "execution_count": 78,
     "metadata": {},
     "output_type": "execute_result"
    },
    {
     "data": {
      "text/plain": [
       "[5, 4, 3, 2, 1, 0]"
      ]
     },
     "execution_count": 78,
     "metadata": {},
     "output_type": "execute_result"
    },
    {
     "data": {
      "text/plain": [
       "[3, 4, 5]"
      ]
     },
     "execution_count": 78,
     "metadata": {},
     "output_type": "execute_result"
    }
   ],
   "source": [
    "my_list[0:4]\n",
    "my_list[0:4:2]\n",
    "my_list[:3]\n",
    "my_list[::-1]\n",
    "my_list[-3:]"
   ]
  },
  {
   "cell_type": "markdown",
   "metadata": {},
   "source": [
    "You can use slicing for assignment of multiple items"
   ]
  },
  {
   "cell_type": "code",
   "execution_count": 79,
   "metadata": {},
   "outputs": [
    {
     "data": {
      "text/plain": [
       "[11, 12, 2, 3, 4, 5]"
      ]
     },
     "execution_count": 79,
     "metadata": {},
     "output_type": "execute_result"
    }
   ],
   "source": [
    "my_list[:2] = [11, 12]\n",
    "my_list"
   ]
  },
  {
   "cell_type": "markdown",
   "metadata": {},
   "source": [
    "The magic of multiple assignment means we can extract to more than one variable at a time"
   ]
  },
  {
   "cell_type": "code",
   "execution_count": 80,
   "metadata": {},
   "outputs": [
    {
     "data": {
      "text/plain": [
       "(11, 12)"
      ]
     },
     "execution_count": 80,
     "metadata": {},
     "output_type": "execute_result"
    }
   ],
   "source": [
    "x, y = my_list[:2]\n",
    "x, y"
   ]
  },
  {
   "cell_type": "markdown",
   "metadata": {},
   "source": [
    "Fun fact: a string is actually a list! "
   ]
  },
  {
   "cell_type": "code",
   "execution_count": 81,
   "metadata": {},
   "outputs": [
    {
     "data": {
      "text/plain": [
       "'B'"
      ]
     },
     "execution_count": 81,
     "metadata": {},
     "output_type": "execute_result"
    },
    {
     "data": {
      "text/plain": [
       "'n'"
      ]
     },
     "execution_count": 81,
     "metadata": {},
     "output_type": "execute_result"
    }
   ],
   "source": [
    "my_name = 'Brian'\n",
    "my_name[0]\n",
    "my_name[-1]"
   ]
  },
  {
   "cell_type": "markdown",
   "metadata": {},
   "source": [
    "Revisit the `+` and `*` operators on strings which we saw earlier. These are general to lists."
   ]
  },
  {
   "cell_type": "code",
   "execution_count": 82,
   "metadata": {},
   "outputs": [
    {
     "data": {
      "text/plain": [
       "[11, 12, 2, 3, 4, 5, 11, 12, 2, 3, 4, 5]"
      ]
     },
     "execution_count": 82,
     "metadata": {},
     "output_type": "execute_result"
    },
    {
     "data": {
      "text/plain": [
       "[11, 12, 2, 3, 4, 5, 1, 2]"
      ]
     },
     "execution_count": 82,
     "metadata": {},
     "output_type": "execute_result"
    }
   ],
   "source": [
    "my_list * 2\n",
    "my_list + [1,2]"
   ]
  },
  {
   "cell_type": "markdown",
   "metadata": {},
   "source": [
    "Quick exercise:\n",
    "\n",
    "1. Pull out every third letter from your name\n",
    "2. Extract the penultimate letter of your name\n",
    "\n",
    "## Tuples\n",
    "\n",
    "A tuple is very similar to a list. The most significant difference is that the data is _immutable_. This means that items inside the tuple may not be changed. They are created similar to lists, but use parentheses rather than square brackets."
   ]
  },
  {
   "cell_type": "code",
   "execution_count": 83,
   "metadata": {},
   "outputs": [
    {
     "data": {
      "text/plain": [
       "3"
      ]
     },
     "execution_count": 83,
     "metadata": {},
     "output_type": "execute_result"
    },
    {
     "ename": "TypeError",
     "evalue": "'tuple' object does not support item assignment",
     "output_type": "error",
     "traceback": [
      "\u001b[1;31m---------------------------------------------------------------------------\u001b[0m",
      "\u001b[1;31mTypeError\u001b[0m                                 Traceback (most recent call last)",
      "\u001b[1;32mc:\\Users\\Paul\\OneDrive\\Documents\\GitHub\\CAS-Python\\session_one.ipynb Cell 114\u001b[0m in \u001b[0;36m<cell line: 3>\u001b[1;34m()\u001b[0m\n\u001b[0;32m      <a href='vscode-notebook-cell:/c%3A/Users/Paul/OneDrive/Documents/GitHub/CAS-Python/session_one.ipynb#Y221sZmlsZQ%3D%3D?line=0'>1</a>\u001b[0m my_tuple \u001b[39m=\u001b[39m (\u001b[39m3\u001b[39m, \u001b[39m5\u001b[39m)\n\u001b[0;32m      <a href='vscode-notebook-cell:/c%3A/Users/Paul/OneDrive/Documents/GitHub/CAS-Python/session_one.ipynb#Y221sZmlsZQ%3D%3D?line=1'>2</a>\u001b[0m my_tuple[\u001b[39m0\u001b[39m]\n\u001b[1;32m----> <a href='vscode-notebook-cell:/c%3A/Users/Paul/OneDrive/Documents/GitHub/CAS-Python/session_one.ipynb#Y221sZmlsZQ%3D%3D?line=2'>3</a>\u001b[0m my_tuple[\u001b[39m0\u001b[39;49m] \u001b[39m=\u001b[39m \u001b[39m4\u001b[39m\n",
      "\u001b[1;31mTypeError\u001b[0m: 'tuple' object does not support item assignment"
     ]
    }
   ],
   "source": [
    "my_tuple = (3, 5)\n",
    "my_tuple[0]\n",
    "my_tuple[0] = 4"
   ]
  },
  {
   "cell_type": "markdown",
   "metadata": {},
   "source": [
    "Tuples exist, but you will not often create them. They are often returned from functions, so you will see them.\n",
    "\n",
    "## Sets\n",
    "\n",
    "A set is a collection of unique items. Like a tuple the elements are not mutable."
   ]
  },
  {
   "cell_type": "code",
   "execution_count": 84,
   "metadata": {},
   "outputs": [
    {
     "data": {
      "text/plain": [
       "{' ', 'B', 'F', 'a', 'i', 'n', 'r'}"
      ]
     },
     "execution_count": 84,
     "metadata": {},
     "output_type": "execute_result"
    },
    {
     "data": {
      "text/plain": [
       "{1, 2, 3, 4}"
      ]
     },
     "execution_count": 84,
     "metadata": {},
     "output_type": "execute_result"
    }
   ],
   "source": [
    "set('Brian Fannin')\n",
    "set([1, 2, 2, 3, 3, 3, 4, 4, 4, 4])"
   ]
  },
  {
   "cell_type": "markdown",
   "metadata": {},
   "source": [
    "## Dictionaries\n",
    "\n",
    "A dictionary is a set of key-value pairs. The values may be lists. This is similar to JSON/XML. It may also remind you of a structure in C, or user-defined type in VBA.\n",
    "\n",
    "A dictionary may be created by placing key-value pairs in parentheses, or calling the `dict()` function."
   ]
  },
  {
   "cell_type": "code",
   "execution_count": 85,
   "metadata": {},
   "outputs": [
    {
     "data": {
      "text/plain": [
       "{'effective_date': datetime.date(2020, 7, 1),\n",
       " 'expiration_date': datetime.date(2021, 6, 30),\n",
       " 'premium': 10000.0}"
      ]
     },
     "execution_count": 85,
     "metadata": {},
     "output_type": "execute_result"
    },
    {
     "data": {
      "text/plain": [
       "{'effective_date': datetime.date(2020, 7, 1),\n",
       " 'expiration_date': datetime.date(2021, 6, 30),\n",
       " 'premium': 10000.0}"
      ]
     },
     "execution_count": 85,
     "metadata": {},
     "output_type": "execute_result"
    },
    {
     "data": {
      "text/plain": [
       "True"
      ]
     },
     "execution_count": 85,
     "metadata": {},
     "output_type": "execute_result"
    }
   ],
   "source": [
    "my_dict = {\n",
    "  'effective_date': date(2020, 7, 1),\n",
    "  'expiration_date': date(2021, 6, 30),\n",
    "  'premium': 10e3,\n",
    "}\n",
    "\n",
    "my_dict\n",
    "\n",
    "my_other_dict = dict(\n",
    "  effective_date = date(2020, 7, 1),\n",
    "  expiration_date = date(2021, 6, 30),\n",
    "  premium = 10e3,\n",
    ")\n",
    "my_other_dict\n",
    "\n",
    "my_dict == my_other_dict"
   ]
  },
  {
   "cell_type": "markdown",
   "metadata": {},
   "source": [
    "Elements may be accessed by name, but not position."
   ]
  },
  {
   "cell_type": "code",
   "execution_count": 86,
   "metadata": {},
   "outputs": [
    {
     "data": {
      "text/plain": [
       "datetime.date(2020, 7, 1)"
      ]
     },
     "execution_count": 86,
     "metadata": {},
     "output_type": "execute_result"
    },
    {
     "ename": "KeyError",
     "evalue": "0",
     "output_type": "error",
     "traceback": [
      "\u001b[1;31m---------------------------------------------------------------------------\u001b[0m",
      "\u001b[1;31mKeyError\u001b[0m                                  Traceback (most recent call last)",
      "\u001b[1;32mc:\\Users\\Paul\\OneDrive\\Documents\\GitHub\\CAS-Python\\session_one.ipynb Cell 120\u001b[0m in \u001b[0;36m<cell line: 2>\u001b[1;34m()\u001b[0m\n\u001b[0;32m      <a href='vscode-notebook-cell:/c%3A/Users/Paul/OneDrive/Documents/GitHub/CAS-Python/session_one.ipynb#Y230sZmlsZQ%3D%3D?line=0'>1</a>\u001b[0m my_dict[\u001b[39m'\u001b[39m\u001b[39meffective_date\u001b[39m\u001b[39m'\u001b[39m]\n\u001b[1;32m----> <a href='vscode-notebook-cell:/c%3A/Users/Paul/OneDrive/Documents/GitHub/CAS-Python/session_one.ipynb#Y230sZmlsZQ%3D%3D?line=1'>2</a>\u001b[0m my_dict[\u001b[39m0\u001b[39;49m]\n",
      "\u001b[1;31mKeyError\u001b[0m: 0"
     ]
    }
   ],
   "source": [
    "my_dict['effective_date']\n",
    "my_dict[0]"
   ]
  },
  {
   "cell_type": "markdown",
   "metadata": {},
   "source": [
    "Reassignment doesn't care about data types"
   ]
  },
  {
   "cell_type": "code",
   "execution_count": 87,
   "metadata": {},
   "outputs": [
    {
     "data": {
      "text/plain": [
       "7"
      ]
     },
     "execution_count": 87,
     "metadata": {},
     "output_type": "execute_result"
    }
   ],
   "source": [
    "my_dict['effective_date'] = 7\n",
    "my_dict['effective_date']"
   ]
  },
  {
   "cell_type": "markdown",
   "metadata": {},
   "source": [
    "New keys may be added simply through assignment"
   ]
  },
  {
   "cell_type": "code",
   "execution_count": 88,
   "metadata": {},
   "outputs": [
    {
     "data": {
      "text/plain": [
       "{'effective_date': 7,\n",
       " 'expiration_date': datetime.date(2021, 6, 30),\n",
       " 'premium': 10000.0,\n",
       " 'mojo': 'cazart'}"
      ]
     },
     "execution_count": 88,
     "metadata": {},
     "output_type": "execute_result"
    }
   ],
   "source": [
    "my_dict['mojo'] = 'cazart'\n",
    "my_dict"
   ]
  },
  {
   "cell_type": "markdown",
   "metadata": {},
   "source": [
    "You may investigate what keys are included by calling the `keys()` method."
   ]
  },
  {
   "cell_type": "code",
   "execution_count": 89,
   "metadata": {},
   "outputs": [
    {
     "data": {
      "text/plain": [
       "dict_keys(['effective_date', 'expiration_date', 'premium', 'mojo'])"
      ]
     },
     "execution_count": 89,
     "metadata": {},
     "output_type": "execute_result"
    }
   ],
   "source": [
    "my_dict.keys()"
   ]
  },
  {
   "cell_type": "markdown",
   "metadata": {},
   "source": [
    "`values()` will give you the, um, values."
   ]
  },
  {
   "cell_type": "code",
   "execution_count": 90,
   "metadata": {},
   "outputs": [
    {
     "data": {
      "text/plain": [
       "dict_values([7, datetime.date(2021, 6, 30), 10000.0, 'cazart'])"
      ]
     },
     "execution_count": 90,
     "metadata": {},
     "output_type": "execute_result"
    }
   ],
   "source": [
    "my_dict.values()"
   ]
  },
  {
   "cell_type": "markdown",
   "metadata": {},
   "source": [
    "You can see which keys exist in a dictionary by calling `in`."
   ]
  },
  {
   "cell_type": "code",
   "execution_count": 91,
   "metadata": {},
   "outputs": [
    {
     "data": {
      "text/plain": [
       "True"
      ]
     },
     "execution_count": 91,
     "metadata": {},
     "output_type": "execute_result"
    },
    {
     "data": {
      "text/plain": [
       "False"
      ]
     },
     "execution_count": 91,
     "metadata": {},
     "output_type": "execute_result"
    }
   ],
   "source": [
    "'effective_date' in my_dict\n",
    "'line_of_business' in my_dict"
   ]
  },
  {
   "cell_type": "markdown",
   "metadata": {},
   "source": [
    "### Why dictionaries?\n",
    "\n",
    "A tangible benefit of dictionaries is that they are fast. The time to access an item in a dictionary is independent of the size of the dictionary. This comes from some cost to add items, particularly if the order of items is important and you want to add something to the middle of the dictionary.\n",
    "\n",
    "The less tangible benefit is that the elements are expressive.\n",
    "\n",
    "## Comprehensions\n",
    "\n",
    "Lists and dictionaries are _iterable_. We can walk through the elements in sequence and perform operations to create new lists and dictionaries. This is closely associated with list comprehensions and dictionary comprehensions.\n",
    "\n",
    "### List comprehension\n",
    "\n",
    "A list comprehension (sometimes abbreviated \"listcomp\") will generate a list. This is more compact way of achieving something for which you may have used a `for` loop.\n",
    "\n",
    "[expression for list_element in a_list]\n",
    "[expression for list_element in a_list if _condition_]"
   ]
  },
  {
   "cell_type": "code",
   "execution_count": 92,
   "metadata": {},
   "outputs": [
    {
     "data": {
      "text/plain": [
       "[1, 2]"
      ]
     },
     "execution_count": 92,
     "metadata": {},
     "output_type": "execute_result"
    }
   ],
   "source": [
    "[add_two(x, 1)  for x in range(2)]"
   ]
  },
  {
   "cell_type": "markdown",
   "metadata": {},
   "source": [
    "Get all the days in February 2020:"
   ]
  },
  {
   "cell_type": "code",
   "execution_count": 93,
   "metadata": {},
   "outputs": [],
   "source": [
    "february_days = [date(2020, 2, x) for x in range(1, 30)]"
   ]
  },
  {
   "cell_type": "markdown",
   "metadata": {},
   "source": [
    "We can use multiple assignment to create the same effect as a nested loop"
   ]
  },
  {
   "cell_type": "code",
   "execution_count": 94,
   "metadata": {},
   "outputs": [
    {
     "data": {
      "text/plain": [
       "[0, 1, 1, 2]"
      ]
     },
     "execution_count": 94,
     "metadata": {},
     "output_type": "execute_result"
    },
    {
     "data": {
      "text/plain": [
       "['BF',\n",
       " 'Ba',\n",
       " 'Bn',\n",
       " 'Bn',\n",
       " 'Bi',\n",
       " 'Bn',\n",
       " 'rF',\n",
       " 'ra',\n",
       " 'rn',\n",
       " 'rn',\n",
       " 'ri',\n",
       " 'rn',\n",
       " 'iF',\n",
       " 'ia',\n",
       " 'in',\n",
       " 'in',\n",
       " 'ii',\n",
       " 'in',\n",
       " 'aF',\n",
       " 'aa',\n",
       " 'an',\n",
       " 'an',\n",
       " 'ai',\n",
       " 'an',\n",
       " 'nF',\n",
       " 'na',\n",
       " 'nn',\n",
       " 'nn',\n",
       " 'ni',\n",
       " 'nn']"
      ]
     },
     "execution_count": 94,
     "metadata": {},
     "output_type": "execute_result"
    }
   ],
   "source": [
    "[add_two(x, y)  for x in range(2) \n",
    "                for y in range(2)]\n",
    "\n",
    "my_last_name = 'Fannin'\n",
    "\n",
    "[add_two(x, y)  for x in my_name \n",
    "                for y in my_last_name]"
   ]
  },
  {
   "cell_type": "markdown",
   "metadata": {},
   "source": [
    "A list comprehension will also let us create a logical subset of a list. We can check membership in a list by using the keyword `in`."
   ]
  },
  {
   "cell_type": "code",
   "execution_count": 95,
   "metadata": {},
   "outputs": [
    {
     "data": {
      "text/plain": [
       "['i', 'a']"
      ]
     },
     "execution_count": 95,
     "metadata": {},
     "output_type": "execute_result"
    }
   ],
   "source": [
    "[x for x in my_name if x in 'aeiou']"
   ]
  },
  {
   "cell_type": "markdown",
   "metadata": {},
   "source": [
    "Quick question\n",
    "\n",
    "1. How could you use list comprehension to create a list of quarter start dates for the years 2001 through 2005?\n",
    "\n",
    "### Dictionary comprehension\n",
    "\n",
    "Similar to a list comprehension. Note that we can peform an operation on the value which will form the key."
   ]
  },
  {
   "cell_type": "code",
   "execution_count": 96,
   "metadata": {},
   "outputs": [
    {
     "data": {
      "text/plain": [
       "{'1': 1, '2': 4, '3': 9, '4': 16}"
      ]
     },
     "execution_count": 96,
     "metadata": {},
     "output_type": "execute_result"
    },
    {
     "data": {
      "text/plain": [
       "dict_keys(['1', '2', '3', '4'])"
      ]
     },
     "execution_count": 96,
     "metadata": {},
     "output_type": "execute_result"
    },
    {
     "data": {
      "text/plain": [
       "dict_values([1, 4, 9, 16])"
      ]
     },
     "execution_count": 96,
     "metadata": {},
     "output_type": "execute_result"
    },
    {
     "data": {
      "text/plain": [
       "1"
      ]
     },
     "execution_count": 96,
     "metadata": {},
     "output_type": "execute_result"
    }
   ],
   "source": [
    "new_dict = {str(x): x**2 for x in [1, 2, 3, 4]}\n",
    "new_dict\n",
    "new_dict.keys()\n",
    "new_dict.values()\n",
    "new_dict['1']"
   ]
  },
  {
   "cell_type": "markdown",
   "metadata": {},
   "source": [
    "We can do this with multiple elements, to create a dictionary of lists"
   ]
  },
  {
   "cell_type": "code",
   "execution_count": 97,
   "metadata": {},
   "outputs": [
    {
     "data": {
      "text/plain": [
       "{'written_premium': [100, 200],\n",
       " 'effective_date': [datetime.date(2001, 1, 1), datetime.date(2002, 1, 1)]}"
      ]
     },
     "execution_count": 97,
     "metadata": {},
     "output_type": "execute_result"
    }
   ],
   "source": [
    "{\n",
    "    'written_premium': [100, 200]\n",
    "    , 'effective_date': [date(a_year, 1, 1) for a_year in range(2001, 2003)]\n",
    "}"
   ]
  },
  {
   "cell_type": "markdown",
   "metadata": {},
   "source": [
    "## Iteration\n",
    "\n",
    "Python supports many iterable expressions. These can be thought of as functions which generate the next value in a sequence. \n",
    "\n",
    "### Generator expression\n",
    "\n",
    "Generator expressions look similar to a list comprehension, but are enclosed within parentheses rather than square brackets. \n",
    "\n",
    "We'll create a simple function which determines if an integer is odd."
   ]
  },
  {
   "cell_type": "code",
   "execution_count": 98,
   "metadata": {},
   "outputs": [
    {
     "data": {
      "text/plain": [
       "False"
      ]
     },
     "execution_count": 98,
     "metadata": {},
     "output_type": "execute_result"
    }
   ],
   "source": [
    "def is_odd(x):\n",
    "  return x % 2 != 0\n",
    "\n",
    "is_odd(8)"
   ]
  },
  {
   "cell_type": "markdown",
   "metadata": {},
   "source": [
    "We can use list comprehension to form a Boolean list of the oddness of numbers."
   ]
  },
  {
   "cell_type": "code",
   "execution_count": 99,
   "metadata": {},
   "outputs": [
    {
     "data": {
      "text/plain": [
       "[False, True, False, True, False, True, False, True, False, True]"
      ]
     },
     "execution_count": 99,
     "metadata": {},
     "output_type": "execute_result"
    }
   ],
   "source": [
    "mojo = [is_odd(x) for x in range(10)]\n",
    "mojo"
   ]
  },
  {
   "cell_type": "markdown",
   "metadata": {},
   "source": [
    "A generator function will not run execute until you ask it to."
   ]
  },
  {
   "cell_type": "code",
   "execution_count": 100,
   "metadata": {},
   "outputs": [
    {
     "data": {
      "text/plain": [
       "<generator object <genexpr> at 0x000001C8AD649510>"
      ]
     },
     "execution_count": 100,
     "metadata": {},
     "output_type": "execute_result"
    }
   ],
   "source": [
    "gonzo = (is_odd(x) for x in range(10))\n",
    "gonzo"
   ]
  },
  {
   "cell_type": "markdown",
   "metadata": {},
   "source": [
    "So, let's ask it."
   ]
  },
  {
   "cell_type": "code",
   "execution_count": 101,
   "metadata": {},
   "outputs": [
    {
     "data": {
      "text/plain": [
       "[False, True, False, True, False, True, False, True, False, True]"
      ]
     },
     "execution_count": 101,
     "metadata": {},
     "output_type": "execute_result"
    }
   ],
   "source": [
    "cazart = list(gonzo)\n",
    "cazart"
   ]
  },
  {
   "cell_type": "markdown",
   "metadata": {},
   "source": [
    "Note that the two lists are identical"
   ]
  },
  {
   "cell_type": "code",
   "execution_count": 102,
   "metadata": {},
   "outputs": [
    {
     "data": {
      "text/plain": [
       "True"
      ]
     },
     "execution_count": 102,
     "metadata": {},
     "output_type": "execute_result"
    }
   ],
   "source": [
    "cazart == mojo"
   ]
  },
  {
   "cell_type": "markdown",
   "metadata": {},
   "source": [
    "The difference:\n",
    "\n",
    "* A list comprehension is _greedy_. It will produce all results at once.\n",
    "* A generator expression is _lazy_. It will generate the next result in a sequence as needed\n",
    "\n",
    "We can use `next()` to ask for the next item in the sequence:"
   ]
  },
  {
   "cell_type": "code",
   "execution_count": 103,
   "metadata": {},
   "outputs": [
    {
     "data": {
      "text/plain": [
       "False"
      ]
     },
     "execution_count": 103,
     "metadata": {},
     "output_type": "execute_result"
    },
    {
     "data": {
      "text/plain": [
       "True"
      ]
     },
     "execution_count": 103,
     "metadata": {},
     "output_type": "execute_result"
    }
   ],
   "source": [
    "gonzo = (is_odd(x) for x in range(10))\n",
    "next(gonzo)\n",
    "next(gonzo)"
   ]
  },
  {
   "cell_type": "markdown",
   "metadata": {},
   "source": [
    "### `zip()`\n",
    "\n",
    "`zip()` will pair up matching items in two or more lists."
   ]
  },
  {
   "cell_type": "code",
   "execution_count": 104,
   "metadata": {},
   "outputs": [
    {
     "data": {
      "text/plain": [
       "<zip at 0x1c8ac95fb00>"
      ]
     },
     "execution_count": 104,
     "metadata": {},
     "output_type": "execute_result"
    }
   ],
   "source": [
    "my_zip = zip(\n",
    "  ['a', 'b', 'c'],\n",
    "  [1, 2, 3]\n",
    ")\n",
    "my_zip"
   ]
  },
  {
   "cell_type": "markdown",
   "metadata": {},
   "source": [
    "In Python 3, `zip()` will return an iterator. We can extract the results using `list()`."
   ]
  },
  {
   "cell_type": "code",
   "execution_count": 105,
   "metadata": {},
   "outputs": [
    {
     "data": {
      "text/plain": [
       "[('a', 1), ('b', 2), ('c', 3)]"
      ]
     },
     "execution_count": 105,
     "metadata": {},
     "output_type": "execute_result"
    }
   ],
   "source": [
    "zipped_stuff = list(my_zip)\n",
    "zipped_stuff"
   ]
  },
  {
   "cell_type": "code",
   "execution_count": 106,
   "metadata": {},
   "outputs": [],
   "source": [
    "for item in my_zip:\n",
    "  print(item)\n"
   ]
  },
  {
   "cell_type": "code",
   "execution_count": 107,
   "metadata": {},
   "outputs": [
    {
     "data": {
      "text/plain": [
       "1.5"
      ]
     },
     "execution_count": 107,
     "metadata": {},
     "output_type": "execute_result"
    }
   ],
   "source": [
    "ids = [str(i) for i in range(100)]\n",
    "written_premium = [float(i) / 2 for i in range(100)]\n",
    "\n",
    "policies = dict(zip(ids, written_premium))\n",
    "policies['3']"
   ]
  },
  {
   "cell_type": "markdown",
   "metadata": {},
   "source": [
    "### `enumerate()`\n",
    "\n",
    "`enumerate()` will produce each item in a list, along with the index of the item."
   ]
  },
  {
   "cell_type": "code",
   "execution_count": 108,
   "metadata": {},
   "outputs": [
    {
     "data": {
      "text/plain": [
       "'Item 0 is B'"
      ]
     },
     "execution_count": 108,
     "metadata": {},
     "output_type": "execute_result"
    },
    {
     "data": {
      "text/plain": [
       "'Item 1 is r'"
      ]
     },
     "execution_count": 108,
     "metadata": {},
     "output_type": "execute_result"
    },
    {
     "data": {
      "text/plain": [
       "'Item 2 is i'"
      ]
     },
     "execution_count": 108,
     "metadata": {},
     "output_type": "execute_result"
    },
    {
     "data": {
      "text/plain": [
       "'Item 3 is a'"
      ]
     },
     "execution_count": 108,
     "metadata": {},
     "output_type": "execute_result"
    },
    {
     "data": {
      "text/plain": [
       "'Item 4 is n'"
      ]
     },
     "execution_count": 108,
     "metadata": {},
     "output_type": "execute_result"
    }
   ],
   "source": [
    "my_list = list('Brian')\n",
    "for i, letter in enumerate(my_list):\n",
    "  f'Item {i} is {letter}'\n"
   ]
  },
  {
   "cell_type": "markdown",
   "metadata": {},
   "source": [
    "We can use `enumerate()` with the generator we created earlier. "
   ]
  },
  {
   "cell_type": "code",
   "execution_count": 109,
   "metadata": {},
   "outputs": [
    {
     "data": {
      "text/plain": [
       "'The number 0 is odd: False'"
      ]
     },
     "execution_count": 109,
     "metadata": {},
     "output_type": "execute_result"
    },
    {
     "data": {
      "text/plain": [
       "'The number 1 is odd: True'"
      ]
     },
     "execution_count": 109,
     "metadata": {},
     "output_type": "execute_result"
    },
    {
     "data": {
      "text/plain": [
       "'The number 2 is odd: False'"
      ]
     },
     "execution_count": 109,
     "metadata": {},
     "output_type": "execute_result"
    },
    {
     "data": {
      "text/plain": [
       "'The number 3 is odd: True'"
      ]
     },
     "execution_count": 109,
     "metadata": {},
     "output_type": "execute_result"
    },
    {
     "data": {
      "text/plain": [
       "'The number 4 is odd: False'"
      ]
     },
     "execution_count": 109,
     "metadata": {},
     "output_type": "execute_result"
    },
    {
     "data": {
      "text/plain": [
       "'The number 5 is odd: True'"
      ]
     },
     "execution_count": 109,
     "metadata": {},
     "output_type": "execute_result"
    },
    {
     "data": {
      "text/plain": [
       "'The number 6 is odd: False'"
      ]
     },
     "execution_count": 109,
     "metadata": {},
     "output_type": "execute_result"
    },
    {
     "data": {
      "text/plain": [
       "'The number 7 is odd: True'"
      ]
     },
     "execution_count": 109,
     "metadata": {},
     "output_type": "execute_result"
    },
    {
     "data": {
      "text/plain": [
       "'The number 8 is odd: False'"
      ]
     },
     "execution_count": 109,
     "metadata": {},
     "output_type": "execute_result"
    },
    {
     "data": {
      "text/plain": [
       "'The number 9 is odd: True'"
      ]
     },
     "execution_count": 109,
     "metadata": {},
     "output_type": "execute_result"
    }
   ],
   "source": [
    "gonzo = (is_odd(x) for x in range(10))\n",
    "for i, oddness in enumerate(gonzo):\n",
    "  f'The number {i} is odd: {oddness}'\n"
   ]
  },
  {
   "cell_type": "markdown",
   "metadata": {},
   "source": [
    "### `yield`\n",
    "\n",
    "You can construct a generator function by using the `yield` keyword. This will look a lot like a function. However, instead of using `return`, you will use `yield`. This will return the next value in a sequence. Below we create a generator which will count integers beginning at zero."
   ]
  },
  {
   "cell_type": "code",
   "execution_count": 110,
   "metadata": {},
   "outputs": [
    {
     "data": {
      "text/plain": [
       "0"
      ]
     },
     "execution_count": 110,
     "metadata": {},
     "output_type": "execute_result"
    },
    {
     "data": {
      "text/plain": [
       "1"
      ]
     },
     "execution_count": 110,
     "metadata": {},
     "output_type": "execute_result"
    },
    {
     "data": {
      "text/plain": [
       "2"
      ]
     },
     "execution_count": 110,
     "metadata": {},
     "output_type": "execute_result"
    },
    {
     "data": {
      "text/plain": [
       "3"
      ]
     },
     "execution_count": 110,
     "metadata": {},
     "output_type": "execute_result"
    },
    {
     "ename": "StopIteration",
     "evalue": "",
     "output_type": "error",
     "traceback": [
      "\u001b[1;31m---------------------------------------------------------------------------\u001b[0m",
      "\u001b[1;31mStopIteration\u001b[0m                             Traceback (most recent call last)",
      "\u001b[1;32mc:\\Users\\Paul\\OneDrive\\Documents\\GitHub\\CAS-Python\\session_one.ipynb Cell 166\u001b[0m in \u001b[0;36m<cell line: 13>\u001b[1;34m()\u001b[0m\n\u001b[0;32m     <a href='vscode-notebook-cell:/c%3A/Users/Paul/OneDrive/Documents/GitHub/CAS-Python/session_one.ipynb#Y324sZmlsZQ%3D%3D?line=10'>11</a>\u001b[0m \u001b[39mnext\u001b[39m(count_four)\n\u001b[0;32m     <a href='vscode-notebook-cell:/c%3A/Users/Paul/OneDrive/Documents/GitHub/CAS-Python/session_one.ipynb#Y324sZmlsZQ%3D%3D?line=11'>12</a>\u001b[0m \u001b[39mnext\u001b[39m(count_four)\n\u001b[1;32m---> <a href='vscode-notebook-cell:/c%3A/Users/Paul/OneDrive/Documents/GitHub/CAS-Python/session_one.ipynb#Y324sZmlsZQ%3D%3D?line=12'>13</a>\u001b[0m \u001b[39mnext\u001b[39;49m(count_four)\n",
      "\u001b[1;31mStopIteration\u001b[0m: "
     ]
    }
   ],
   "source": [
    "def counter(limit):\n",
    "  the_counter = 0\n",
    "  while the_counter < limit:\n",
    "    yield the_counter\n",
    "    the_counter += 1\n",
    "\n",
    "count_four = counter(4)\n",
    "\n",
    "next(count_four)\n",
    "next(count_four)\n",
    "next(count_four)\n",
    "next(count_four)\n",
    "next(count_four)"
   ]
  },
  {
   "cell_type": "markdown",
   "metadata": {},
   "source": [
    "We can use list comprehension to create a list using a generator."
   ]
  },
  {
   "cell_type": "code",
   "execution_count": 111,
   "metadata": {},
   "outputs": [
    {
     "data": {
      "text/plain": [
       "[0, 1, 2, 3, 4, 5, 6, 7, 8, 9]"
      ]
     },
     "execution_count": 111,
     "metadata": {},
     "output_type": "execute_result"
    }
   ],
   "source": [
    "new_counter = counter(10)\n",
    "my_list = [next(new_counter) for _ in range(10)]\n",
    "my_list"
   ]
  },
  {
   "cell_type": "markdown",
   "metadata": {},
   "source": [
    "# Other stuff\n",
    "\n",
    "## scipy.stats\n",
    "\n",
    "https://docs.scipy.org/doc/scipy/reference/stats.html \n",
    "\n",
    "scipy stats has some useful stats functions, including random number generators, cumulative and density functions, etc."
   ]
  },
  {
   "cell_type": "code",
   "execution_count": 112,
   "metadata": {},
   "outputs": [
    {
     "data": {
      "text/plain": [
       "4963"
      ]
     },
     "execution_count": 112,
     "metadata": {},
     "output_type": "execute_result"
    },
    {
     "data": {
      "text/plain": [
       "DescribeResult(nobs=1000, minmax=(0, 13), mean=4.963, variance=4.838469469469469, skewness=0.3829479461525534, kurtosis=0.15295449717345688)"
      ]
     },
     "execution_count": 112,
     "metadata": {},
     "output_type": "execute_result"
    }
   ],
   "source": [
    "from scipy.stats import poisson, describe\n",
    "\n",
    "sims = 10 ** 3\n",
    "count_mean = 5\n",
    "arr_pois = poisson.rvs(count_mean, size = sims)\n",
    "\n",
    "sum(arr_pois)\n",
    "describe(arr_pois)"
   ]
  },
  {
   "cell_type": "markdown",
   "metadata": {},
   "source": [
    "Notice that I didn't create an object called `lambda`. `lambda` is a reserved word in Python.\n",
    "\n",
    "## numpy\n",
    "\n",
    "https://numpy.org/doc/stable/index.html\n",
    "\n",
    "In our next session, we will begin to use `pandas`. This will remain our preferred means of handling data sets. `pandas` uses `numpy` under the hood. Benefits of using `numpy`:\n",
    "\n",
    "* Vectorized operations\n",
    "* Smaller memory footprint\n",
    "* Faster execution"
   ]
  },
  {
   "cell_type": "code",
   "execution_count": 113,
   "metadata": {},
   "outputs": [
    {
     "data": {
      "text/plain": [
       "array([0, 1, 2, 3, 4])"
      ]
     },
     "execution_count": 113,
     "metadata": {},
     "output_type": "execute_result"
    },
    {
     "data": {
      "text/plain": [
       "array([0, 2, 4, 6, 8])"
      ]
     },
     "execution_count": 113,
     "metadata": {},
     "output_type": "execute_result"
    }
   ],
   "source": [
    "import numpy as np\n",
    "\n",
    "an_array = np.arange(5)\n",
    "an_array\n",
    "\n",
    "an_array * 2"
   ]
  },
  {
   "cell_type": "markdown",
   "metadata": {},
   "source": [
    "### numpy stats\n",
    "\n",
    "numpy replicates quite a few of the stats functions from scipy. However, they're optimized for array-like objects."
   ]
  },
  {
   "cell_type": "code",
   "execution_count": 114,
   "metadata": {},
   "outputs": [
    {
     "data": {
      "text/plain": [
       "DescribeResult(nobs=1000, minmax=(0, 13), mean=5.017, variance=5.12783883883884, skewness=0.3546300441642724, kurtosis=-0.09221741656757887)"
      ]
     },
     "execution_count": 114,
     "metadata": {},
     "output_type": "execute_result"
    }
   ],
   "source": [
    "arr_pois_2 = np.random.poisson(count_mean, sims)\n",
    "describe(arr_pois_2)"
   ]
  },
  {
   "cell_type": "markdown",
   "metadata": {},
   "source": [
    "## matplotlib\n",
    "\n",
    "We'll get into visualization later, but can't let the first session pass without a quick mention. The code below will let you get a basic scatter plot (which handles 80% of your use cases) and a histogram (which handles another 10%).\n",
    "\n",
    "Within a Jupyter notebook, you won't need to call `plt.show()`.\n",
    "\n",
    "To use matplotlib within Jupyter, we'll need to call the \"magic\" command `%matplotlib inline`."
   ]
  },
  {
   "cell_type": "code",
   "execution_count": null,
   "metadata": {
    "eval": false
   },
   "outputs": [],
   "source": [
    "%matplotlib inline  "
   ]
  },
  {
   "cell_type": "code",
   "execution_count": 115,
   "metadata": {
    "error": false
   },
   "outputs": [],
   "source": [
    "import matplotlib.pyplot as plt"
   ]
  },
  {
   "cell_type": "code",
   "execution_count": 116,
   "metadata": {
    "tags": [
     "remove_output"
    ]
   },
   "outputs": [
    {
     "data": {
      "text/plain": [
       "[<matplotlib.lines.Line2D at 0x1c8dcc7a8b0>]"
      ]
     },
     "execution_count": 116,
     "metadata": {},
     "output_type": "execute_result"
    },
    {
     "data": {
      "text/plain": [
       "Text(0.5, 1.0, 'A very silly straight line')"
      ]
     },
     "execution_count": 116,
     "metadata": {},
     "output_type": "execute_result"
    },
    {
     "data": {
      "image/png": "[encoded data removed]",
      "text/plain": [
       "<Figure size 432x288 with 1 Axes>"
      ]
     },
     "metadata": {
      "needs_background": "light"
     },
     "output_type": "display_data"
    }
   ],
   "source": [
    "fig, axis = plt.subplots()\n",
    "\n",
    "axis.plot(an_array, an_array * 2)\n",
    "axis.set_title(\"A very silly straight line\")"
   ]
  },
  {
   "cell_type": "code",
   "execution_count": 117,
   "metadata": {
    "tags": [
     "remove_input"
    ]
   },
   "outputs": [],
   "source": [
    "plt.show()"
   ]
  },
  {
   "cell_type": "markdown",
   "metadata": {},
   "source": [
    "We can also have more than one plot"
   ]
  },
  {
   "cell_type": "code",
   "execution_count": 118,
   "metadata": {
    "tags": [
     "remove_output"
    ]
   },
   "outputs": [
    {
     "data": {
      "text/plain": [
       "(array([  6.,  39.,   0.,  86., 130.,   0., 181., 171.,   0., 153., 111.,\n",
       "          0.,  65.,  32.,   0.,  15.,   4.,   0.,   5.,   2.]),\n",
       " array([ 0.  ,  0.65,  1.3 ,  1.95,  2.6 ,  3.25,  3.9 ,  4.55,  5.2 ,\n",
       "         5.85,  6.5 ,  7.15,  7.8 ,  8.45,  9.1 ,  9.75, 10.4 , 11.05,\n",
       "        11.7 , 12.35, 13.  ]),\n",
       " <BarContainer object of 20 artists>)"
      ]
     },
     "execution_count": 118,
     "metadata": {},
     "output_type": "execute_result"
    },
    {
     "data": {
      "text/plain": [
       "Text(0.5, 1.0, '20 bins')"
      ]
     },
     "execution_count": 118,
     "metadata": {},
     "output_type": "execute_result"
    },
    {
     "data": {
      "text/plain": [
       "(array([ 45.,  86., 130., 352., 153., 111.,  97.,  15.,   4.,   7.]),\n",
       " array([ 0. ,  1.3,  2.6,  3.9,  5.2,  6.5,  7.8,  9.1, 10.4, 11.7, 13. ]),\n",
       " <BarContainer object of 10 artists>)"
      ]
     },
     "execution_count": 118,
     "metadata": {},
     "output_type": "execute_result"
    },
    {
     "data": {
      "text/plain": [
       "Text(0.5, 1.0, '10 bins')"
      ]
     },
     "execution_count": 118,
     "metadata": {},
     "output_type": "execute_result"
    },
    {
     "data": {
      "image/png": "[encoded data removed]",
      "text/plain": [
       "<Figure size 432x288 with 2 Axes>"
      ]
     },
     "metadata": {
      "needs_background": "light"
     },
     "output_type": "display_data"
    }
   ],
   "source": [
    "fig, (axis1, axis2) = plt.subplots(1, 2)\n",
    "\n",
    "axis1.hist(arr_pois, bins = 20, ec = 'w')\n",
    "axis1.set_title(\"20 bins\")\n",
    "axis2.hist(arr_pois, bins = 10, ec = 'w')\n",
    "axis2.set_title(\"10 bins\")"
   ]
  },
  {
   "cell_type": "code",
   "execution_count": null,
   "metadata": {
    "tags": [
     "remove_input"
    ]
   },
   "outputs": [],
   "source": [
    "plt.show()"
   ]
  },
  {
   "cell_type": "markdown",
   "metadata": {},
   "source": [
    "`matplotlib` is utilitarian, like R's base graphics. It's OK for getting started, but we'll show some better options.\n",
    "\n",
    "# A practical assignment\n",
    "\n",
    "We would like to randomly generate a set of policies. Nothing fancy. Each policy will contain an effective and expiration date and written premium. Next, we'd like to calculate the earned premium by calendar year. \n",
    "\n",
    "## Random set of policyholders\n",
    "\n",
    "We'll start by importing some functions that we'll need."
   ]
  },
  {
   "cell_type": "code",
   "execution_count": 121,
   "metadata": {},
   "outputs": [],
   "source": [
    "from datetime import date, timedelta\n",
    "from random import seed, randrange"
   ]
  },
  {
   "cell_type": "markdown",
   "metadata": {},
   "source": [
    "Next, we'll create a lambda function to increment the effective date by a year. This is largely to make the code more readable."
   ]
  },
  {
   "cell_type": "code",
   "execution_count": 122,
   "metadata": {},
   "outputs": [],
   "source": [
    "increment_year = lambda date_in :date(date_in.year + 1, date_in.month, date_in.day)"
   ]
  },
  {
   "cell_type": "markdown",
   "metadata": {},
   "source": [
    "Finally, we'll create a generator which gives us a randomized policy. There's not much special about the written premium. It's simply a number between 0 and one thousand.\n",
    "\n",
    "Note 1) the use of our lambda function, 2) the use of a random number seed and 3) the `yield` keyword which makes this a generator."
   ]
  },
  {
   "cell_type": "code",
   "execution_count": 123,
   "metadata": {},
   "outputs": [],
   "source": [
    "def random_policy(new_seed = 1234):\n",
    "  \"\"\"\n",
    "  This is a generator which produces a dictionary of basic policy information\n",
    "  \"\"\"\n",
    "  seed(new_seed)\n",
    "  while True:\n",
    "    policy = {\n",
    "      'written_premium': randrange(10**3),\n",
    "      'effective_date': date(2020, 1, 1) + timedelta(randrange(365))\n",
    "    }\n",
    "    policy['expiration_date'] = increment_year(policy['effective_date'])\n",
    "    yield policy"
   ]
  },
  {
   "cell_type": "markdown",
   "metadata": {},
   "source": [
    "We can now generate a list of dictionaries by calling `next()` as many times as we like. We don't need the result of our call to `range()`. We indicate that we're ignoring it by assigning it to the `_` object."
   ]
  },
  {
   "cell_type": "code",
   "execution_count": 124,
   "metadata": {},
   "outputs": [],
   "source": [
    "policy_generator = random_policy()\n",
    "\n",
    "policies = [next(policy_generator) for _ in range(10)]"
   ]
  },
  {
   "cell_type": "markdown",
   "metadata": {},
   "source": [
    "Take a look at our policies:"
   ]
  },
  {
   "cell_type": "code",
   "execution_count": 125,
   "metadata": {},
   "outputs": [
    {
     "data": {
      "text/plain": [
       "[{'written_premium': 989,\n",
       "  'effective_date': datetime.date(2020, 8, 13),\n",
       "  'expiration_date': datetime.date(2021, 8, 13)},\n",
       " {'written_premium': 119,\n",
       "  'effective_date': datetime.date(2020, 1, 4),\n",
       "  'expiration_date': datetime.date(2021, 1, 4)}]"
      ]
     },
     "execution_count": 125,
     "metadata": {},
     "output_type": "execute_result"
    }
   ],
   "source": [
    "policies[:2]"
   ]
  },
  {
   "cell_type": "markdown",
   "metadata": {},
   "source": [
    "And confirm that we have as many as we're expecting:"
   ]
  },
  {
   "cell_type": "code",
   "execution_count": 126,
   "metadata": {},
   "outputs": [
    {
     "data": {
      "text/plain": [
       "10"
      ]
     },
     "execution_count": 126,
     "metadata": {},
     "output_type": "execute_result"
    }
   ],
   "source": [
    "len(policies)"
   ]
  },
  {
   "cell_type": "markdown",
   "metadata": {},
   "source": [
    "## Earned premium\n",
    "\n",
    "Compose a function to give the earned premium based on two dates. For example, a policy written on July 1, 2020 is roughly 50% earned between July 1, 2020 and December 31, 2020."
   ]
  },
  {
   "cell_type": "code",
   "execution_count": 127,
   "metadata": {},
   "outputs": [],
   "source": [
    "def earned_premium(written_premium, policy_start, policy_end, earn_start, earn_end):\n",
    "    \"\"\"\n",
    "    Calculate earned premium. Presumes an even (linear) earning pattern\n",
    "    \"\"\"\n",
    "    policy_term = policy_end - policy_start\n",
    "    earn_start = max(earn_start, policy_start)\n",
    "    earn_end = min(earn_end, policy_end)\n",
    "    frac_earned = (earn_end - earn_start) / (policy_end - policy_start)\n",
    "    \n",
    "    return written_premium * frac_earned"
   ]
  },
  {
   "cell_type": "markdown",
   "metadata": {},
   "source": [
    "We can confirm that the function works with some sample data."
   ]
  },
  {
   "cell_type": "code",
   "execution_count": 128,
   "metadata": {},
   "outputs": [
    {
     "data": {
      "text/plain": [
       "504.10958904109594"
      ]
     },
     "execution_count": 128,
     "metadata": {},
     "output_type": "execute_result"
    },
    {
     "data": {
      "text/plain": [
       "495.8904109589041"
      ]
     },
     "execution_count": 128,
     "metadata": {},
     "output_type": "execute_result"
    }
   ],
   "source": [
    "premium = 10**3\n",
    "earned_premium(premium, date(2020, 7, 1), date(2021, 7, 1), date(2020, 1, 1), date(2021, 1, 1))\n",
    "earned_premium(premium, date(2020, 7, 1), date(2021, 7, 1), date(2021, 1, 1), date(2022, 1, 1))"
   ]
  },
  {
   "cell_type": "markdown",
   "metadata": {},
   "source": [
    "This function will return the calendar year intervals which bracket a list of dates. Note the use of `set()`."
   ]
  },
  {
   "cell_type": "code",
   "execution_count": 129,
   "metadata": {},
   "outputs": [],
   "source": [
    "def get_cy_intervals(dates_list):\n",
    "    \"\"\"\n",
    "    This function will return a list of calendar years\n",
    "    \"\"\"\n",
    "    the_years = set([a_date.year for a_date in dates_list])\n",
    "    cy_year = [[date(a_year, 1, 1), date(a_year + 1, 1, 1)] for a_year in the_years]\n",
    "    return cy_year"
   ]
  },
  {
   "cell_type": "markdown",
   "metadata": {},
   "source": [
    "We can see it in action here:"
   ]
  },
  {
   "cell_type": "code",
   "execution_count": 130,
   "metadata": {},
   "outputs": [
    {
     "data": {
      "text/plain": [
       "[[datetime.date(2020, 1, 1), datetime.date(2021, 1, 1)],\n",
       " [datetime.date(2021, 1, 1), datetime.date(2022, 1, 1)]]"
      ]
     },
     "execution_count": 130,
     "metadata": {},
     "output_type": "execute_result"
    }
   ],
   "source": [
    "some_dates = [\n",
    "    date(2020, 7, 1)\n",
    "    , date(2020, 12, 31)\n",
    "    , date(2021, 6, 30)\n",
    "]\n",
    "\n",
    "get_cy_intervals(some_dates)"
   ]
  },
  {
   "cell_type": "markdown",
   "metadata": {},
   "source": [
    "Those two functions will let us compute the earned premium in all of the calendar years in a policy coverage period."
   ]
  },
  {
   "cell_type": "code",
   "execution_count": 131,
   "metadata": {},
   "outputs": [],
   "source": [
    "def earned_premium_cy(written_premium, policy_start, policy_end):\n",
    "    \"\"\"\n",
    "    Calculate the amount of premium earned by calendar year for a single policy period\n",
    "    \"\"\"\n",
    "    cy_return = {}\n",
    "    for cy_start, cy_end in get_cy_intervals([policy_start, policy_end]):\n",
    "        cy_return[cy_start.year] = earned_premium(\n",
    "          written_premium, policy_start, policy_end, cy_start, cy_end\n",
    "        )\n",
    "    return cy_return\n"
   ]
  },
  {
   "cell_type": "markdown",
   "metadata": {},
   "source": [
    "Does it work?"
   ]
  },
  {
   "cell_type": "code",
   "execution_count": 132,
   "metadata": {},
   "outputs": [
    {
     "data": {
      "text/plain": [
       "{2020: 5054.945054945055, 2021: 4945.054945054945}"
      ]
     },
     "execution_count": 132,
     "metadata": {},
     "output_type": "execute_result"
    }
   ],
   "source": [
    "earned_premium_cy(10e3, date(2020, 7, 1), date(2021, 6, 30))"
   ]
  },
  {
   "cell_type": "markdown",
   "metadata": {},
   "source": [
    "It does!\n",
    "\n",
    "## All together now"
   ]
  },
  {
   "cell_type": "code",
   "execution_count": 133,
   "metadata": {},
   "outputs": [
    {
     "data": {
      "text/plain": [
       "{2020: 1706.729598023804, 2021: 1602.270401976196}"
      ]
     },
     "execution_count": 133,
     "metadata": {},
     "output_type": "execute_result"
    }
   ],
   "source": [
    "# Initialize empty dictionary to store total earned premium by calendar year\n",
    "cy_earned = {}\n",
    "for policy in policies:\n",
    "  \n",
    "  cy_ep = earned_premium_cy(policy['written_premium'], policy['effective_date'], policy['expiration_date'])\n",
    "  \n",
    "  for year in cy_ep:\n",
    "    if year in cy_earned:\n",
    "      cy_earned[year] += cy_ep[year]\n",
    "    else:\n",
    "      cy_earned[year] = cy_ep[year]\n",
    "\n",
    "cy_earned"
   ]
  },
  {
   "cell_type": "markdown",
   "metadata": {},
   "source": [
    "Here's a sneak preview of what's happening next week:"
   ]
  },
  {
   "cell_type": "code",
   "execution_count": 134,
   "metadata": {
    "lines_to_next_cell": 2
   },
   "outputs": [
    {
     "data": {
      "text/html": [
       "<div>\n",
       "<style scoped>\n",
       "    .dataframe tbody tr th:only-of-type {\n",
       "        vertical-align: middle;\n",
       "    }\n",
       "\n",
       "    .dataframe tbody tr th {\n",
       "        vertical-align: top;\n",
       "    }\n",
       "\n",
       "    .dataframe thead th {\n",
       "        text-align: right;\n",
       "    }\n",
       "</style>\n",
       "<table border=\"1\" class=\"dataframe\">\n",
       "  <thead>\n",
       "    <tr style=\"text-align: right;\">\n",
       "      <th></th>\n",
       "      <th>written_premium</th>\n",
       "      <th>effective_date</th>\n",
       "      <th>expiration_date</th>\n",
       "    </tr>\n",
       "  </thead>\n",
       "  <tbody>\n",
       "    <tr>\n",
       "      <th>0</th>\n",
       "      <td>989</td>\n",
       "      <td>2020-08-13</td>\n",
       "      <td>2021-08-13</td>\n",
       "    </tr>\n",
       "    <tr>\n",
       "      <th>1</th>\n",
       "      <td>119</td>\n",
       "      <td>2020-01-04</td>\n",
       "      <td>2021-01-04</td>\n",
       "    </tr>\n",
       "    <tr>\n",
       "      <th>2</th>\n",
       "      <td>92</td>\n",
       "      <td>2020-10-25</td>\n",
       "      <td>2021-10-25</td>\n",
       "    </tr>\n",
       "    <tr>\n",
       "      <th>3</th>\n",
       "      <td>35</td>\n",
       "      <td>2020-12-09</td>\n",
       "      <td>2021-12-09</td>\n",
       "    </tr>\n",
       "    <tr>\n",
       "      <th>4</th>\n",
       "      <td>709</td>\n",
       "      <td>2020-02-12</td>\n",
       "      <td>2021-02-12</td>\n",
       "    </tr>\n",
       "    <tr>\n",
       "      <th>5</th>\n",
       "      <td>100</td>\n",
       "      <td>2020-06-30</td>\n",
       "      <td>2021-06-30</td>\n",
       "    </tr>\n",
       "    <tr>\n",
       "      <th>6</th>\n",
       "      <td>242</td>\n",
       "      <td>2020-01-09</td>\n",
       "      <td>2021-01-09</td>\n",
       "    </tr>\n",
       "    <tr>\n",
       "      <th>7</th>\n",
       "      <td>31</td>\n",
       "      <td>2020-01-09</td>\n",
       "      <td>2021-01-09</td>\n",
       "    </tr>\n",
       "    <tr>\n",
       "      <th>8</th>\n",
       "      <td>354</td>\n",
       "      <td>2020-11-27</td>\n",
       "      <td>2021-11-27</td>\n",
       "    </tr>\n",
       "    <tr>\n",
       "      <th>9</th>\n",
       "      <td>638</td>\n",
       "      <td>2020-09-04</td>\n",
       "      <td>2021-09-04</td>\n",
       "    </tr>\n",
       "  </tbody>\n",
       "</table>\n",
       "</div>"
      ],
      "text/plain": [
       "   written_premium effective_date expiration_date\n",
       "0              989     2020-08-13      2021-08-13\n",
       "1              119     2020-01-04      2021-01-04\n",
       "2               92     2020-10-25      2021-10-25\n",
       "3               35     2020-12-09      2021-12-09\n",
       "4              709     2020-02-12      2021-02-12\n",
       "5              100     2020-06-30      2021-06-30\n",
       "6              242     2020-01-09      2021-01-09\n",
       "7               31     2020-01-09      2021-01-09\n",
       "8              354     2020-11-27      2021-11-27\n",
       "9              638     2020-09-04      2021-09-04"
      ]
     },
     "execution_count": 134,
     "metadata": {},
     "output_type": "execute_result"
    }
   ],
   "source": [
    "import pandas as pd\n",
    "\n",
    "pd.DataFrame(policies)"
   ]
  },
  {
   "cell_type": "markdown",
   "metadata": {},
   "source": [
    "For the student\n",
    "\n",
    "1. Simulate 5,000 simulations from a Poisson with an expected value of 5\n",
    "2. Do the same for a negative binomial. Use values of 0.2, 0.5 and 1.0 for the coefficient of variation"
   ]
  }
 ],
 "metadata": {
  "jupytext": {
   "cell_metadata_filter": "eval,tags,error,-all",
   "main_language": "python",
   "notebook_metadata_filter": "-all"
  },
  "kernelspec": {
   "display_name": "Python 3",
   "language": "python",
   "name": "python3"
  },
  "language_info": {
   "codemirror_mode": {
    "name": "ipython",
    "version": 3
   },
   "file_extension": ".py",
   "mimetype": "text/x-python",
   "name": "python",
   "nbconvert_exporter": "python",
   "pygments_lexer": "ipython3",
   "version": "3.9.12"
  }
 },
 "nbformat": 4,
 "nbformat_minor": 4
}
